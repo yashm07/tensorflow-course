{
  "nbformat": 4,
  "nbformat_minor": 0,
  "metadata": {
    "kernelspec": {
      "display_name": "Python 3",
      "language": "python",
      "name": "python3"
    },
    "language_info": {
      "codemirror_mode": {
        "name": "ipython",
        "version": 3
      },
      "file_extension": ".py",
      "mimetype": "text/x-python",
      "name": "python",
      "nbconvert_exporter": "python",
      "pygments_lexer": "ipython3",
      "version": "3.7.4"
    },
    "colab": {
      "name": "project-exercise.ipynb",
      "provenance": [],
      "collapsed_sections": [
        "yQfMgUgmih4y",
        "cpvs8cypih5G"
      ]
    }
  },
  "cells": [
    {
      "cell_type": "markdown",
      "metadata": {
        "id": "aFQgZrU7ih4l"
      },
      "source": [
        "# Keras API Project Exercise\n",
        "\n",
        "## The Data\n",
        "\n",
        "We will be using a subset of the LendingClub DataSet obtained from Kaggle: https://www.kaggle.com/wordsforthewise/lending-club\n",
        "\n",
        "## NOTE: Do not download the full zip from the link! We provide a special version of this file that has some extra feature engineering for you to do. You won't be able to follow along with the original file!\n",
        "\n",
        "LendingClub is a US peer-to-peer lending company, headquartered in San Francisco, California.[3] It was the first peer-to-peer lender to register its offerings as securities with the Securities and Exchange Commission (SEC), and to offer loan trading on a secondary market. LendingClub is the world's largest peer-to-peer lending platform.\n",
        "\n",
        "### Our Goal\n",
        "\n",
        "Given historical data on loans given out with information on whether or not the borrower defaulted (charge-off), can we build a model thatcan predict wether or nor a borrower will pay back their loan? This way in the future when we get a new potential customer we can assess whether or not they are likely to pay back the loan. Keep in mind classification metrics when evaluating the performance of your model!\n",
        "\n",
        "The \"loan_status\" column contains our label.\n",
        "\n",
        "### Data Overview"
      ]
    },
    {
      "cell_type": "markdown",
      "metadata": {
        "id": "thTfwF7Lih4l"
      },
      "source": [
        "----\n",
        "-----\n",
        "There are many LendingClub data sets on Kaggle. Here is the information on this particular data set:\n",
        "\n",
        "<table border=\"1\" class=\"dataframe\">\n",
        "  <thead>\n",
        "    <tr style=\"text-align: right;\">\n",
        "      <th></th>\n",
        "      <th>LoanStatNew</th>\n",
        "      <th>Description</th>\n",
        "    </tr>\n",
        "  </thead>\n",
        "  <tbody>\n",
        "    <tr>\n",
        "      <th>0</th>\n",
        "      <td>loan_amnt</td>\n",
        "      <td>The listed amount of the loan applied for by the borrower. If at some point in time, the credit department reduces the loan amount, then it will be reflected in this value.</td>\n",
        "    </tr>\n",
        "    <tr>\n",
        "      <th>1</th>\n",
        "      <td>term</td>\n",
        "      <td>The number of payments on the loan. Values are in months and can be either 36 or 60.</td>\n",
        "    </tr>\n",
        "    <tr>\n",
        "      <th>2</th>\n",
        "      <td>int_rate</td>\n",
        "      <td>Interest Rate on the loan</td>\n",
        "    </tr>\n",
        "    <tr>\n",
        "      <th>3</th>\n",
        "      <td>installment</td>\n",
        "      <td>The monthly payment owed by the borrower if the loan originates.</td>\n",
        "    </tr>\n",
        "    <tr>\n",
        "      <th>4</th>\n",
        "      <td>grade</td>\n",
        "      <td>LC assigned loan grade</td>\n",
        "    </tr>\n",
        "    <tr>\n",
        "      <th>5</th>\n",
        "      <td>sub_grade</td>\n",
        "      <td>LC assigned loan subgrade</td>\n",
        "    </tr>\n",
        "    <tr>\n",
        "      <th>6</th>\n",
        "      <td>emp_title</td>\n",
        "      <td>The job title supplied by the Borrower when applying for the loan.*</td>\n",
        "    </tr>\n",
        "    <tr>\n",
        "      <th>7</th>\n",
        "      <td>emp_length</td>\n",
        "      <td>Employment length in years. Possible values are between 0 and 10 where 0 means less than one year and 10 means ten or more years.</td>\n",
        "    </tr>\n",
        "    <tr>\n",
        "      <th>8</th>\n",
        "      <td>home_ownership</td>\n",
        "      <td>The home ownership status provided by the borrower during registration or obtained from the credit report. Our values are: RENT, OWN, MORTGAGE, OTHER</td>\n",
        "    </tr>\n",
        "    <tr>\n",
        "      <th>9</th>\n",
        "      <td>annual_inc</td>\n",
        "      <td>The self-reported annual income provided by the borrower during registration.</td>\n",
        "    </tr>\n",
        "    <tr>\n",
        "      <th>10</th>\n",
        "      <td>verification_status</td>\n",
        "      <td>Indicates if income was verified by LC, not verified, or if the income source was verified</td>\n",
        "    </tr>\n",
        "    <tr>\n",
        "      <th>11</th>\n",
        "      <td>issue_d</td>\n",
        "      <td>The month which the loan was funded</td>\n",
        "    </tr>\n",
        "    <tr>\n",
        "      <th>12</th>\n",
        "      <td>loan_status</td>\n",
        "      <td>Current status of the loan</td>\n",
        "    </tr>\n",
        "    <tr>\n",
        "      <th>13</th>\n",
        "      <td>purpose</td>\n",
        "      <td>A category provided by the borrower for the loan request.</td>\n",
        "    </tr>\n",
        "    <tr>\n",
        "      <th>14</th>\n",
        "      <td>title</td>\n",
        "      <td>The loan title provided by the borrower</td>\n",
        "    </tr>\n",
        "    <tr>\n",
        "      <th>15</th>\n",
        "      <td>zip_code</td>\n",
        "      <td>The first 3 numbers of the zip code provided by the borrower in the loan application.</td>\n",
        "    </tr>\n",
        "    <tr>\n",
        "      <th>16</th>\n",
        "      <td>addr_state</td>\n",
        "      <td>The state provided by the borrower in the loan application</td>\n",
        "    </tr>\n",
        "    <tr>\n",
        "      <th>17</th>\n",
        "      <td>dti</td>\n",
        "      <td>A ratio calculated using the borrower’s total monthly debt payments on the total debt obligations, excluding mortgage and the requested LC loan, divided by the borrower’s self-reported monthly income.</td>\n",
        "    </tr>\n",
        "    <tr>\n",
        "      <th>18</th>\n",
        "      <td>earliest_cr_line</td>\n",
        "      <td>The month the borrower's earliest reported credit line was opened</td>\n",
        "    </tr>\n",
        "    <tr>\n",
        "      <th>19</th>\n",
        "      <td>open_acc</td>\n",
        "      <td>The number of open credit lines in the borrower's credit file.</td>\n",
        "    </tr>\n",
        "    <tr>\n",
        "      <th>20</th>\n",
        "      <td>pub_rec</td>\n",
        "      <td>Number of derogatory public records</td>\n",
        "    </tr>\n",
        "    <tr>\n",
        "      <th>21</th>\n",
        "      <td>revol_bal</td>\n",
        "      <td>Total credit revolving balance</td>\n",
        "    </tr>\n",
        "    <tr>\n",
        "      <th>22</th>\n",
        "      <td>revol_util</td>\n",
        "      <td>Revolving line utilization rate, or the amount of credit the borrower is using relative to all available revolving credit.</td>\n",
        "    </tr>\n",
        "    <tr>\n",
        "      <th>23</th>\n",
        "      <td>total_acc</td>\n",
        "      <td>The total number of credit lines currently in the borrower's credit file</td>\n",
        "    </tr>\n",
        "    <tr>\n",
        "      <th>24</th>\n",
        "      <td>initial_list_status</td>\n",
        "      <td>The initial listing status of the loan. Possible values are – W, F</td>\n",
        "    </tr>\n",
        "    <tr>\n",
        "      <th>25</th>\n",
        "      <td>application_type</td>\n",
        "      <td>Indicates whether the loan is an individual application or a joint application with two co-borrowers</td>\n",
        "    </tr>\n",
        "    <tr>\n",
        "      <th>26</th>\n",
        "      <td>mort_acc</td>\n",
        "      <td>Number of mortgage accounts.</td>\n",
        "    </tr>\n",
        "    <tr>\n",
        "      <th>27</th>\n",
        "      <td>pub_rec_bankruptcies</td>\n",
        "      <td>Number of public record bankruptcies</td>\n",
        "    </tr>\n",
        "  </tbody>\n",
        "</table>\n",
        "\n",
        "---\n",
        "----"
      ]
    },
    {
      "cell_type": "markdown",
      "metadata": {
        "id": "BMCQTkeIih4o"
      },
      "source": [
        "## Starter Code\n",
        "\n",
        "#### Note: We also provide feature information on the data as a .csv file for easy lookup throughout the notebook:"
      ]
    },
    {
      "cell_type": "code",
      "metadata": {
        "id": "q_iQiscfih4q"
      },
      "source": [
        "import pandas as pd"
      ],
      "execution_count": 5,
      "outputs": []
    },
    {
      "cell_type": "code",
      "metadata": {
        "id": "gKH7bQE9ih4q"
      },
      "source": [
        "data_info = pd.read_csv('lending_club_info.csv',index_col='LoanStatNew')"
      ],
      "execution_count": 6,
      "outputs": []
    },
    {
      "cell_type": "code",
      "metadata": {
        "colab": {
          "base_uri": "https://localhost:8080/"
        },
        "id": "cajNxNjgih4q",
        "outputId": "d80ed92f-ed72-4b7f-fe1e-f80642c2e059"
      },
      "source": [
        "print(data_info.loc['revol_util']['Description'])"
      ],
      "execution_count": 7,
      "outputs": [
        {
          "output_type": "stream",
          "text": [
            "Revolving line utilization rate, or the amount of credit the borrower is using relative to all available revolving credit.\n"
          ],
          "name": "stdout"
        }
      ]
    },
    {
      "cell_type": "code",
      "metadata": {
        "id": "S9_W9m7Zih4r"
      },
      "source": [
        "def feat_info(col_name):\n",
        "    print(data_info.loc[col_name]['Description'])"
      ],
      "execution_count": 8,
      "outputs": []
    },
    {
      "cell_type": "code",
      "metadata": {
        "colab": {
          "base_uri": "https://localhost:8080/"
        },
        "id": "5wlH3JBxih4r",
        "outputId": "b0edd875-aabf-4caa-c16f-7dd7b08ec218"
      },
      "source": [
        "feat_info('mort_acc')"
      ],
      "execution_count": 9,
      "outputs": [
        {
          "output_type": "stream",
          "text": [
            "Number of mortgage accounts.\n"
          ],
          "name": "stdout"
        }
      ]
    },
    {
      "cell_type": "markdown",
      "metadata": {
        "id": "034ClDUIih4r"
      },
      "source": [
        "## Loading the data and other imports"
      ]
    },
    {
      "cell_type": "code",
      "metadata": {
        "id": "KgTwnX8Rih4r"
      },
      "source": [
        "import pandas as pd\n",
        "import numpy as np\n",
        "import matplotlib.pyplot as plt\n",
        "import seaborn as sns\n",
        "\n",
        "# might be needed depending on your version of Jupyter\n",
        "%matplotlib inline"
      ],
      "execution_count": 10,
      "outputs": []
    },
    {
      "cell_type": "code",
      "metadata": {
        "id": "x4wQQZnpih4s"
      },
      "source": [
        "df = pd.read_csv('lending_club_loan_two.csv')"
      ],
      "execution_count": 11,
      "outputs": []
    },
    {
      "cell_type": "code",
      "metadata": {
        "colab": {
          "base_uri": "https://localhost:8080/"
        },
        "id": "AMDjD2Ngih4s",
        "outputId": "9d084006-007f-48de-c641-2cc2adad3b33"
      },
      "source": [
        "df.info()"
      ],
      "execution_count": 12,
      "outputs": [
        {
          "output_type": "stream",
          "text": [
            "<class 'pandas.core.frame.DataFrame'>\n",
            "RangeIndex: 396030 entries, 0 to 396029\n",
            "Data columns (total 27 columns):\n",
            " #   Column                Non-Null Count   Dtype  \n",
            "---  ------                --------------   -----  \n",
            " 0   loan_amnt             396030 non-null  float64\n",
            " 1   term                  396030 non-null  object \n",
            " 2   int_rate              396030 non-null  float64\n",
            " 3   installment           396030 non-null  float64\n",
            " 4   grade                 396030 non-null  object \n",
            " 5   sub_grade             396030 non-null  object \n",
            " 6   emp_title             373103 non-null  object \n",
            " 7   emp_length            377729 non-null  object \n",
            " 8   home_ownership        396030 non-null  object \n",
            " 9   annual_inc            396030 non-null  float64\n",
            " 10  verification_status   396030 non-null  object \n",
            " 11  issue_d               396030 non-null  object \n",
            " 12  loan_status           396030 non-null  object \n",
            " 13  purpose               396030 non-null  object \n",
            " 14  title                 394275 non-null  object \n",
            " 15  dti                   396030 non-null  float64\n",
            " 16  earliest_cr_line      396030 non-null  object \n",
            " 17  open_acc              396030 non-null  float64\n",
            " 18  pub_rec               396030 non-null  float64\n",
            " 19  revol_bal             396030 non-null  float64\n",
            " 20  revol_util            395754 non-null  float64\n",
            " 21  total_acc             396030 non-null  float64\n",
            " 22  initial_list_status   396030 non-null  object \n",
            " 23  application_type      396030 non-null  object \n",
            " 24  mort_acc              358235 non-null  float64\n",
            " 25  pub_rec_bankruptcies  395495 non-null  float64\n",
            " 26  address               396030 non-null  object \n",
            "dtypes: float64(12), object(15)\n",
            "memory usage: 81.6+ MB\n"
          ],
          "name": "stdout"
        }
      ]
    },
    {
      "cell_type": "markdown",
      "metadata": {
        "id": "wIkUoVfMih4s"
      },
      "source": [
        "# Project Tasks\n",
        "\n",
        "**Complete the tasks below! Keep in mind is usually more than one way to complete the task! Enjoy**\n",
        "\n",
        "-----\n",
        "------\n",
        "\n",
        "# Section 1: Exploratory Data Analysis\n",
        "\n",
        "**OVERALL GOAL: Get an understanding for which variables are important, view summary statistics, and visualize the data**\n",
        "\n",
        "\n",
        "----"
      ]
    },
    {
      "cell_type": "markdown",
      "metadata": {
        "id": "mUkKE9kMih4s"
      },
      "source": [
        "**TASK: Since we will be attempting to predict loan_status, create a countplot as shown below.**"
      ]
    },
    {
      "cell_type": "code",
      "metadata": {
        "colab": {
          "base_uri": "https://localhost:8080/",
          "height": 297
        },
        "id": "gnRN6DRzih4s",
        "outputId": "ec35ef16-b7ed-4ceb-c007-51279c1803b9"
      },
      "source": [
        "# CODE HERE\n",
        "sns.countplot(x=\"loan_status\", data=df)"
      ],
      "execution_count": 13,
      "outputs": [
        {
          "output_type": "execute_result",
          "data": {
            "text/plain": [
              "<matplotlib.axes._subplots.AxesSubplot at 0x7f506dbdd590>"
            ]
          },
          "metadata": {
            "tags": []
          },
          "execution_count": 13
        },
        {
          "output_type": "display_data",
          "data": {
            "image/png": "[encoded data removed]",
            "text/plain": [
              "<Figure size 432x288 with 1 Axes>"
            ]
          },
          "metadata": {
            "tags": [],
            "needs_background": "light"
          }
        }
      ]
    },
    {
      "cell_type": "markdown",
      "metadata": {
        "id": "KkGBrCcCih4s"
      },
      "source": [
        "**TASK: Create a histogram of the loan_amnt column.**"
      ]
    },
    {
      "cell_type": "code",
      "metadata": {
        "colab": {
          "base_uri": "https://localhost:8080/",
          "height": 353
        },
        "id": "UVLXVn9yih4s",
        "outputId": "c03cae59-bd25-4691-b0e6-1f9f82304973"
      },
      "source": [
        "# CODE HERE\n",
        "plt.figure(figsize=(12,4))\n",
        "sns.distplot(df[\"loan_amnt\"], kde=False)\n",
        "plt.xlim(0, 45000)"
      ],
      "execution_count": 14,
      "outputs": [
        {
          "output_type": "stream",
          "text": [
            "/usr/local/lib/python3.7/dist-packages/seaborn/distributions.py:2557: FutureWarning: `distplot` is a deprecated function and will be removed in a future version. Please adapt your code to use either `displot` (a figure-level function with similar flexibility) or `histplot` (an axes-level function for histograms).\n",
            "  warnings.warn(msg, FutureWarning)\n"
          ],
          "name": "stderr"
        },
        {
          "output_type": "execute_result",
          "data": {
            "text/plain": [
              "(0.0, 45000.0)"
            ]
          },
          "metadata": {
            "tags": []
          },
          "execution_count": 14
        },
        {
          "output_type": "display_data",
          "data": {
            "image/png": "[encoded data removed]",
            "text/plain": [
              "<Figure size 864x288 with 1 Axes>"
            ]
          },
          "metadata": {
            "tags": [],
            "needs_background": "light"
          }
        }
      ]
    },
    {
      "cell_type": "markdown",
      "metadata": {
        "id": "xWXt5ehZih4v"
      },
      "source": [
        "**TASK: Let's explore correlation between the continuous feature variables. Calculate the correlation between all continuous numeric variables using .corr() method.**"
      ]
    },
    {
      "cell_type": "code",
      "metadata": {
        "colab": {
          "base_uri": "https://localhost:8080/",
          "height": 441
        },
        "id": "ZhD6ND0zih4v",
        "outputId": "d3626593-df55-49c7-db43-e76ac28a57ac"
      },
      "source": [
        "# CODE HERE\n",
        "df.corr()"
      ],
      "execution_count": 15,
      "outputs": [
        {
          "output_type": "execute_result",
          "data": {
            "text/html": [
              "<div>\n",
              "<style scoped>\n",
              "    .dataframe tbody tr th:only-of-type {\n",
              "        vertical-align: middle;\n",
              "    }\n",
              "\n",
              "    .dataframe tbody tr th {\n",
              "        vertical-align: top;\n",
              "    }\n",
              "\n",
              "    .dataframe thead th {\n",
              "        text-align: right;\n",
              "    }\n",
              "</style>\n",
              "<table border=\"1\" class=\"dataframe\">\n",
              "  <thead>\n",
              "    <tr style=\"text-align: right;\">\n",
              "      <th></th>\n",
              "      <th>loan_amnt</th>\n",
              "      <th>int_rate</th>\n",
              "      <th>installment</th>\n",
              "      <th>annual_inc</th>\n",
              "      <th>dti</th>\n",
              "      <th>open_acc</th>\n",
              "      <th>pub_rec</th>\n",
              "      <th>revol_bal</th>\n",
              "      <th>revol_util</th>\n",
              "      <th>total_acc</th>\n",
              "      <th>mort_acc</th>\n",
              "      <th>pub_rec_bankruptcies</th>\n",
              "    </tr>\n",
              "  </thead>\n",
              "  <tbody>\n",
              "    <tr>\n",
              "      <th>loan_amnt</th>\n",
              "      <td>1.000000</td>\n",
              "      <td>0.168921</td>\n",
              "      <td>0.953929</td>\n",
              "      <td>0.336887</td>\n",
              "      <td>0.016636</td>\n",
              "      <td>0.198556</td>\n",
              "      <td>-0.077779</td>\n",
              "      <td>0.328320</td>\n",
              "      <td>0.099911</td>\n",
              "      <td>0.223886</td>\n",
              "      <td>0.222315</td>\n",
              "      <td>-0.106539</td>\n",
              "    </tr>\n",
              "    <tr>\n",
              "      <th>int_rate</th>\n",
              "      <td>0.168921</td>\n",
              "      <td>1.000000</td>\n",
              "      <td>0.162758</td>\n",
              "      <td>-0.056771</td>\n",
              "      <td>0.079038</td>\n",
              "      <td>0.011649</td>\n",
              "      <td>0.060986</td>\n",
              "      <td>-0.011280</td>\n",
              "      <td>0.293659</td>\n",
              "      <td>-0.036404</td>\n",
              "      <td>-0.082583</td>\n",
              "      <td>0.057450</td>\n",
              "    </tr>\n",
              "    <tr>\n",
              "      <th>installment</th>\n",
              "      <td>0.953929</td>\n",
              "      <td>0.162758</td>\n",
              "      <td>1.000000</td>\n",
              "      <td>0.330381</td>\n",
              "      <td>0.015786</td>\n",
              "      <td>0.188973</td>\n",
              "      <td>-0.067892</td>\n",
              "      <td>0.316455</td>\n",
              "      <td>0.123915</td>\n",
              "      <td>0.202430</td>\n",
              "      <td>0.193694</td>\n",
              "      <td>-0.098628</td>\n",
              "    </tr>\n",
              "    <tr>\n",
              "      <th>annual_inc</th>\n",
              "      <td>0.336887</td>\n",
              "      <td>-0.056771</td>\n",
              "      <td>0.330381</td>\n",
              "      <td>1.000000</td>\n",
              "      <td>-0.081685</td>\n",
              "      <td>0.136150</td>\n",
              "      <td>-0.013720</td>\n",
              "      <td>0.299773</td>\n",
              "      <td>0.027871</td>\n",
              "      <td>0.193023</td>\n",
              "      <td>0.236320</td>\n",
              "      <td>-0.050162</td>\n",
              "    </tr>\n",
              "    <tr>\n",
              "      <th>dti</th>\n",
              "      <td>0.016636</td>\n",
              "      <td>0.079038</td>\n",
              "      <td>0.015786</td>\n",
              "      <td>-0.081685</td>\n",
              "      <td>1.000000</td>\n",
              "      <td>0.136181</td>\n",
              "      <td>-0.017639</td>\n",
              "      <td>0.063571</td>\n",
              "      <td>0.088375</td>\n",
              "      <td>0.102128</td>\n",
              "      <td>-0.025439</td>\n",
              "      <td>-0.014558</td>\n",
              "    </tr>\n",
              "    <tr>\n",
              "      <th>open_acc</th>\n",
              "      <td>0.198556</td>\n",
              "      <td>0.011649</td>\n",
              "      <td>0.188973</td>\n",
              "      <td>0.136150</td>\n",
              "      <td>0.136181</td>\n",
              "      <td>1.000000</td>\n",
              "      <td>-0.018392</td>\n",
              "      <td>0.221192</td>\n",
              "      <td>-0.131420</td>\n",
              "      <td>0.680728</td>\n",
              "      <td>0.109205</td>\n",
              "      <td>-0.027732</td>\n",
              "    </tr>\n",
              "    <tr>\n",
              "      <th>pub_rec</th>\n",
              "      <td>-0.077779</td>\n",
              "      <td>0.060986</td>\n",
              "      <td>-0.067892</td>\n",
              "      <td>-0.013720</td>\n",
              "      <td>-0.017639</td>\n",
              "      <td>-0.018392</td>\n",
              "      <td>1.000000</td>\n",
              "      <td>-0.101664</td>\n",
              "      <td>-0.075910</td>\n",
              "      <td>0.019723</td>\n",
              "      <td>0.011552</td>\n",
              "      <td>0.699408</td>\n",
              "    </tr>\n",
              "    <tr>\n",
              "      <th>revol_bal</th>\n",
              "      <td>0.328320</td>\n",
              "      <td>-0.011280</td>\n",
              "      <td>0.316455</td>\n",
              "      <td>0.299773</td>\n",
              "      <td>0.063571</td>\n",
              "      <td>0.221192</td>\n",
              "      <td>-0.101664</td>\n",
              "      <td>1.000000</td>\n",
              "      <td>0.226346</td>\n",
              "      <td>0.191616</td>\n",
              "      <td>0.194925</td>\n",
              "      <td>-0.124532</td>\n",
              "    </tr>\n",
              "    <tr>\n",
              "      <th>revol_util</th>\n",
              "      <td>0.099911</td>\n",
              "      <td>0.293659</td>\n",
              "      <td>0.123915</td>\n",
              "      <td>0.027871</td>\n",
              "      <td>0.088375</td>\n",
              "      <td>-0.131420</td>\n",
              "      <td>-0.075910</td>\n",
              "      <td>0.226346</td>\n",
              "      <td>1.000000</td>\n",
              "      <td>-0.104273</td>\n",
              "      <td>0.007514</td>\n",
              "      <td>-0.086751</td>\n",
              "    </tr>\n",
              "    <tr>\n",
              "      <th>total_acc</th>\n",
              "      <td>0.223886</td>\n",
              "      <td>-0.036404</td>\n",
              "      <td>0.202430</td>\n",
              "      <td>0.193023</td>\n",
              "      <td>0.102128</td>\n",
              "      <td>0.680728</td>\n",
              "      <td>0.019723</td>\n",
              "      <td>0.191616</td>\n",
              "      <td>-0.104273</td>\n",
              "      <td>1.000000</td>\n",
              "      <td>0.381072</td>\n",
              "      <td>0.042035</td>\n",
              "    </tr>\n",
              "    <tr>\n",
              "      <th>mort_acc</th>\n",
              "      <td>0.222315</td>\n",
              "      <td>-0.082583</td>\n",
              "      <td>0.193694</td>\n",
              "      <td>0.236320</td>\n",
              "      <td>-0.025439</td>\n",
              "      <td>0.109205</td>\n",
              "      <td>0.011552</td>\n",
              "      <td>0.194925</td>\n",
              "      <td>0.007514</td>\n",
              "      <td>0.381072</td>\n",
              "      <td>1.000000</td>\n",
              "      <td>0.027239</td>\n",
              "    </tr>\n",
              "    <tr>\n",
              "      <th>pub_rec_bankruptcies</th>\n",
              "      <td>-0.106539</td>\n",
              "      <td>0.057450</td>\n",
              "      <td>-0.098628</td>\n",
              "      <td>-0.050162</td>\n",
              "      <td>-0.014558</td>\n",
              "      <td>-0.027732</td>\n",
              "      <td>0.699408</td>\n",
              "      <td>-0.124532</td>\n",
              "      <td>-0.086751</td>\n",
              "      <td>0.042035</td>\n",
              "      <td>0.027239</td>\n",
              "      <td>1.000000</td>\n",
              "    </tr>\n",
              "  </tbody>\n",
              "</table>\n",
              "</div>"
            ],
            "text/plain": [
              "                      loan_amnt  int_rate  ...  mort_acc  pub_rec_bankruptcies\n",
              "loan_amnt              1.000000  0.168921  ...  0.222315             -0.106539\n",
              "int_rate               0.168921  1.000000  ... -0.082583              0.057450\n",
              "installment            0.953929  0.162758  ...  0.193694             -0.098628\n",
              "annual_inc             0.336887 -0.056771  ...  0.236320             -0.050162\n",
              "dti                    0.016636  0.079038  ... -0.025439             -0.014558\n",
              "open_acc               0.198556  0.011649  ...  0.109205             -0.027732\n",
              "pub_rec               -0.077779  0.060986  ...  0.011552              0.699408\n",
              "revol_bal              0.328320 -0.011280  ...  0.194925             -0.124532\n",
              "revol_util             0.099911  0.293659  ...  0.007514             -0.086751\n",
              "total_acc              0.223886 -0.036404  ...  0.381072              0.042035\n",
              "mort_acc               0.222315 -0.082583  ...  1.000000              0.027239\n",
              "pub_rec_bankruptcies  -0.106539  0.057450  ...  0.027239              1.000000\n",
              "\n",
              "[12 rows x 12 columns]"
            ]
          },
          "metadata": {
            "tags": []
          },
          "execution_count": 15
        }
      ]
    },
    {
      "cell_type": "markdown",
      "metadata": {
        "id": "Cu3_JYmgih4v"
      },
      "source": [
        "**TASK: Visualize this using a heatmap. Depending on your version of matplotlib, you may need to manually adjust the heatmap.**\n",
        "\n",
        "* [Heatmap info](https://seaborn.pydata.org/generated/seaborn.heatmap.html#seaborn.heatmap)\n",
        "* [Help with resizing](https://stackoverflow.com/questions/56942670/matplotlib-seaborn-first-and-last-row-cut-in-half-of-heatmap-plot)"
      ]
    },
    {
      "cell_type": "code",
      "metadata": {
        "colab": {
          "base_uri": "https://localhost:8080/",
          "height": 494
        },
        "id": "K0_TZNLEih4v",
        "outputId": "ef0fbd86-8438-4165-ed18-00d695de9d5d"
      },
      "source": [
        "# CODE HERE\n",
        "plt.figure(figsize=(10,6))\n",
        "sns.heatmap(df.corr(), annot=True, cmap=\"YlGnBu\")"
      ],
      "execution_count": 16,
      "outputs": [
        {
          "output_type": "execute_result",
          "data": {
            "text/plain": [
              "<matplotlib.axes._subplots.AxesSubplot at 0x7f506dbdd0d0>"
            ]
          },
          "metadata": {
            "tags": []
          },
          "execution_count": 16
        },
        {
          "output_type": "display_data",
          "data": {
            "image/png": "[encoded data removed]",
            "text/plain": [
              "<Figure size 720x432 with 2 Axes>"
            ]
          },
          "metadata": {
            "tags": [],
            "needs_background": "light"
          }
        }
      ]
    },
    {
      "cell_type": "markdown",
      "metadata": {
        "id": "pDGL29r6ih4v"
      },
      "source": [
        "**TASK: You should have noticed almost perfect correlation with the \"installment\" feature. Explore this feature further. Print out their descriptions and perform a scatterplot between them. Does this relationship make sense to you? Do you think there is duplicate information here?**"
      ]
    },
    {
      "cell_type": "code",
      "metadata": {
        "colab": {
          "base_uri": "https://localhost:8080/"
        },
        "id": "JqG9vhbiih4v",
        "outputId": "81ca67f6-5c76-4f60-b204-8e093918ba12"
      },
      "source": [
        "# CODE HERE\n",
        "feat_info(\"installment\")"
      ],
      "execution_count": 17,
      "outputs": [
        {
          "output_type": "stream",
          "text": [
            "The monthly payment owed by the borrower if the loan originates.\n"
          ],
          "name": "stdout"
        }
      ]
    },
    {
      "cell_type": "code",
      "metadata": {
        "colab": {
          "base_uri": "https://localhost:8080/"
        },
        "id": "xhecnGy6ih4w",
        "outputId": "e50dbe09-ceb5-43f8-e793-81ade2e3a3aa"
      },
      "source": [
        "feat_info(\"loan_amnt\")"
      ],
      "execution_count": 18,
      "outputs": [
        {
          "output_type": "stream",
          "text": [
            "The listed amount of the loan applied for by the borrower. If at some point in time, the credit department reduces the loan amount, then it will be reflected in this value.\n"
          ],
          "name": "stdout"
        }
      ]
    },
    {
      "cell_type": "code",
      "metadata": {
        "colab": {
          "base_uri": "https://localhost:8080/",
          "height": 514
        },
        "id": "ybbqUczcih4w",
        "outputId": "9bd7abdf-2bf2-4109-8598-5631832bca86"
      },
      "source": [
        "plt.figure(figsize=(10,8))\n",
        "sns.scatterplot(x=\"installment\", y=\"loan_amnt\", data=df)"
      ],
      "execution_count": 19,
      "outputs": [
        {
          "output_type": "execute_result",
          "data": {
            "text/plain": [
              "<matplotlib.axes._subplots.AxesSubplot at 0x7f50652e0f90>"
            ]
          },
          "metadata": {
            "tags": []
          },
          "execution_count": 19
        },
        {
          "output_type": "display_data",
          "data": {
            "image/png": "[encoded data removed]",
            "text/plain": [
              "<Figure size 720x576 with 1 Axes>"
            ]
          },
          "metadata": {
            "tags": [],
            "needs_background": "light"
          }
        }
      ]
    },
    {
      "cell_type": "markdown",
      "metadata": {
        "id": "B6GQ17ypih4w"
      },
      "source": [
        "**TASK: Create a boxplot showing the relationship between the loan_status and the Loan Amount.**"
      ]
    },
    {
      "cell_type": "code",
      "metadata": {
        "colab": {
          "base_uri": "https://localhost:8080/",
          "height": 297
        },
        "id": "erV90d7bih4w",
        "outputId": "23be1e39-376b-4528-e676-7227eb8cccb6"
      },
      "source": [
        "# CODE HERE\n",
        "# CODE HERE\n",
        "sns.boxplot(x=\"loan_status\", y=\"loan_amnt\", data=df)"
      ],
      "execution_count": 20,
      "outputs": [
        {
          "output_type": "execute_result",
          "data": {
            "text/plain": [
              "<matplotlib.axes._subplots.AxesSubplot at 0x7f506d52dad0>"
            ]
          },
          "metadata": {
            "tags": []
          },
          "execution_count": 20
        },
        {
          "output_type": "display_data",
          "data": {
            "image/png": "[encoded data removed]",
            "text/plain": [
              "<Figure size 432x288 with 1 Axes>"
            ]
          },
          "metadata": {
            "tags": [],
            "needs_background": "light"
          }
        }
      ]
    },
    {
      "cell_type": "markdown",
      "metadata": {
        "id": "eEIe3KPOih4w"
      },
      "source": [
        "**TASK: Calculate the summary statistics for the loan amount, grouped by the loan_status.**"
      ]
    },
    {
      "cell_type": "code",
      "metadata": {
        "colab": {
          "base_uri": "https://localhost:8080/",
          "height": 142
        },
        "id": "6orzoDH3ih4w",
        "outputId": "0b2f7543-4715-4e17-c6ce-f2b113e82a2c"
      },
      "source": [
        "# CODE \n",
        "df.groupby(\"loan_status\").describe()[\"loan_amnt\"]"
      ],
      "execution_count": 21,
      "outputs": [
        {
          "output_type": "execute_result",
          "data": {
            "text/html": [
              "<div>\n",
              "<style scoped>\n",
              "    .dataframe tbody tr th:only-of-type {\n",
              "        vertical-align: middle;\n",
              "    }\n",
              "\n",
              "    .dataframe tbody tr th {\n",
              "        vertical-align: top;\n",
              "    }\n",
              "\n",
              "    .dataframe thead th {\n",
              "        text-align: right;\n",
              "    }\n",
              "</style>\n",
              "<table border=\"1\" class=\"dataframe\">\n",
              "  <thead>\n",
              "    <tr style=\"text-align: right;\">\n",
              "      <th></th>\n",
              "      <th>count</th>\n",
              "      <th>mean</th>\n",
              "      <th>std</th>\n",
              "      <th>min</th>\n",
              "      <th>25%</th>\n",
              "      <th>50%</th>\n",
              "      <th>75%</th>\n",
              "      <th>max</th>\n",
              "    </tr>\n",
              "    <tr>\n",
              "      <th>loan_status</th>\n",
              "      <th></th>\n",
              "      <th></th>\n",
              "      <th></th>\n",
              "      <th></th>\n",
              "      <th></th>\n",
              "      <th></th>\n",
              "      <th></th>\n",
              "      <th></th>\n",
              "    </tr>\n",
              "  </thead>\n",
              "  <tbody>\n",
              "    <tr>\n",
              "      <th>Charged Off</th>\n",
              "      <td>77673.0</td>\n",
              "      <td>15126.300967</td>\n",
              "      <td>8505.090557</td>\n",
              "      <td>1000.0</td>\n",
              "      <td>8525.0</td>\n",
              "      <td>14000.0</td>\n",
              "      <td>20000.0</td>\n",
              "      <td>40000.0</td>\n",
              "    </tr>\n",
              "    <tr>\n",
              "      <th>Fully Paid</th>\n",
              "      <td>318357.0</td>\n",
              "      <td>13866.878771</td>\n",
              "      <td>8302.319699</td>\n",
              "      <td>500.0</td>\n",
              "      <td>7500.0</td>\n",
              "      <td>12000.0</td>\n",
              "      <td>19225.0</td>\n",
              "      <td>40000.0</td>\n",
              "    </tr>\n",
              "  </tbody>\n",
              "</table>\n",
              "</div>"
            ],
            "text/plain": [
              "                count          mean          std  ...      50%      75%      max\n",
              "loan_status                                       ...                           \n",
              "Charged Off   77673.0  15126.300967  8505.090557  ...  14000.0  20000.0  40000.0\n",
              "Fully Paid   318357.0  13866.878771  8302.319699  ...  12000.0  19225.0  40000.0\n",
              "\n",
              "[2 rows x 8 columns]"
            ]
          },
          "metadata": {
            "tags": []
          },
          "execution_count": 21
        }
      ]
    },
    {
      "cell_type": "markdown",
      "metadata": {
        "id": "RKkRwsNzih4w"
      },
      "source": [
        "**TASK: Let's explore the Grade and SubGrade columns that LendingClub attributes to the loans. What are the unique possible grades and subgrades?**"
      ]
    },
    {
      "cell_type": "code",
      "metadata": {
        "colab": {
          "base_uri": "https://localhost:8080/"
        },
        "id": "MIZ94DRVih4w",
        "outputId": "635501fb-1027-429c-96d8-75e64560a9da"
      },
      "source": [
        "# CODE HERE\n",
        "df[\"grade\"].unique()"
      ],
      "execution_count": 22,
      "outputs": [
        {
          "output_type": "execute_result",
          "data": {
            "text/plain": [
              "array(['B', 'A', 'C', 'E', 'D', 'F', 'G'], dtype=object)"
            ]
          },
          "metadata": {
            "tags": []
          },
          "execution_count": 22
        }
      ]
    },
    {
      "cell_type": "code",
      "metadata": {
        "colab": {
          "base_uri": "https://localhost:8080/"
        },
        "id": "r9UN9WZpih4w",
        "outputId": "a836b1f4-17b7-445c-b03d-8cc8262bc9a8"
      },
      "source": [
        "df[\"sub_grade\"].unique()"
      ],
      "execution_count": 23,
      "outputs": [
        {
          "output_type": "execute_result",
          "data": {
            "text/plain": [
              "array(['B4', 'B5', 'B3', 'A2', 'C5', 'C3', 'A1', 'B2', 'C1', 'A5', 'E4',\n",
              "       'A4', 'A3', 'D1', 'C2', 'B1', 'D3', 'D5', 'D2', 'E1', 'E2', 'E5',\n",
              "       'F4', 'E3', 'D4', 'G1', 'F5', 'G2', 'C4', 'F1', 'F3', 'G5', 'G4',\n",
              "       'F2', 'G3'], dtype=object)"
            ]
          },
          "metadata": {
            "tags": []
          },
          "execution_count": 23
        }
      ]
    },
    {
      "cell_type": "markdown",
      "metadata": {
        "id": "ZdiNDM3pih4x"
      },
      "source": [
        "**TASK: Create a countplot per grade. Set the hue to the loan_status label.**"
      ]
    },
    {
      "cell_type": "code",
      "metadata": {
        "colab": {
          "base_uri": "https://localhost:8080/",
          "height": 296
        },
        "id": "IJOmvhDIih4x",
        "outputId": "0fec83c8-0476-4440-b6e2-b7cf894d6012"
      },
      "source": [
        "# CODE HERE\n",
        "sns.countplot(x=\"grade\", data=df, hue=\"loan_status\")"
      ],
      "execution_count": 24,
      "outputs": [
        {
          "output_type": "execute_result",
          "data": {
            "text/plain": [
              "<matplotlib.axes._subplots.AxesSubplot at 0x7f50652d6a90>"
            ]
          },
          "metadata": {
            "tags": []
          },
          "execution_count": 24
        },
        {
          "output_type": "display_data",
          "data": {
            "image/png": "[encoded data removed]",
            "text/plain": [
              "<Figure size 432x288 with 1 Axes>"
            ]
          },
          "metadata": {
            "tags": [],
            "needs_background": "light"
          }
        }
      ]
    },
    {
      "cell_type": "markdown",
      "metadata": {
        "id": "90T5eF_-ih4x"
      },
      "source": [
        "**TASK: Display a count plot per subgrade. You may need to resize for this plot and [reorder](https://seaborn.pydata.org/generated/seaborn.countplot.html#seaborn.countplot) the x axis. Feel free to edit the color palette. Explore both all loans made per subgrade as well being separated based on the loan_status. After creating this plot, go ahead and create a similar plot, but set hue=\"loan_status\"**"
      ]
    },
    {
      "cell_type": "code",
      "metadata": {
        "colab": {
          "base_uri": "https://localhost:8080/",
          "height": 297
        },
        "id": "hEaUVcajih4x",
        "outputId": "4056f9a8-b778-425d-d2ca-f60a21c80eb1"
      },
      "source": [
        "#CODE HERE\n",
        "plt.figure(figsize=(12,4))\n",
        "# order_list = sorted(df[\"subgrade\"].unique())\n",
        "order_list = [\"A1\", \"A2\", \"A3\", \"A4\", \"A5\", \"B1\", \"B2\", \"B3\", \"B4\",\"B5\",\"C1\",\"C2\",\"C3\",\"C4\",\"C5\",\"E1\",\"E2\",\"E3\", \"E4\", \"E5\", \"F1\",\"F2\",\"F3\",\"F4\",\"F5\",\"G1\",\"G2\",\"G3\",\"G4\",\"G5\"]\n",
        "sns.countplot(x=\"sub_grade\", data=df, order=order_list)"
      ],
      "execution_count": 25,
      "outputs": [
        {
          "output_type": "execute_result",
          "data": {
            "text/plain": [
              "<matplotlib.axes._subplots.AxesSubplot at 0x7f50627dd150>"
            ]
          },
          "metadata": {
            "tags": []
          },
          "execution_count": 25
        },
        {
          "output_type": "display_data",
          "data": {
            "image/png": "[encoded data removed]",
            "text/plain": [
              "<Figure size 864x288 with 1 Axes>"
            ]
          },
          "metadata": {
            "tags": [],
            "needs_background": "light"
          }
        }
      ]
    },
    {
      "cell_type": "code",
      "metadata": {
        "colab": {
          "base_uri": "https://localhost:8080/",
          "height": 297
        },
        "id": "JfYKDPIOih4x",
        "outputId": "d8b63dfc-18b8-40d1-bcfe-928f145bcaea"
      },
      "source": [
        "# CODE HERE\n",
        "plt.figure(figsize=(12,4))\n",
        "order_list = [\"A1\", \"A2\", \"A3\", \"A4\", \"A5\", \"B1\", \"B2\", \"B3\", \"B4\",\"B5\",\"C1\",\"C2\",\"C3\",\"C4\",\"C5\",\"E1\",\"E2\",\"E3\", \"E4\", \"E5\", \"F1\",\"F2\",\"F3\",\"F4\",\"F5\",\"G1\",\"G2\",\"G3\",\"G4\",\"G5\"]\n",
        "sns.countplot(x=\"sub_grade\", data=df, order=order_list, hue=\"loan_status\")"
      ],
      "execution_count": 26,
      "outputs": [
        {
          "output_type": "execute_result",
          "data": {
            "text/plain": [
              "<matplotlib.axes._subplots.AxesSubplot at 0x7f50626b7710>"
            ]
          },
          "metadata": {
            "tags": []
          },
          "execution_count": 26
        },
        {
          "output_type": "display_data",
          "data": {
            "image/png": "[encoded data removed]",
            "text/plain": [
              "<Figure size 864x288 with 1 Axes>"
            ]
          },
          "metadata": {
            "tags": [],
            "needs_background": "light"
          }
        }
      ]
    },
    {
      "cell_type": "markdown",
      "metadata": {
        "id": "UgTJ0yXzih4x"
      },
      "source": [
        "**TASK: It looks like F and G subgrades don't get paid back that often. Isloate those and recreate the countplot just for those subgrades.**"
      ]
    },
    {
      "cell_type": "code",
      "metadata": {
        "colab": {
          "base_uri": "https://localhost:8080/",
          "height": 297
        },
        "id": "sY5qf_Axih4x",
        "outputId": "2ec7005e-6aa4-4664-8814-8e2de9bd22a7"
      },
      "source": [
        "# CODE HERE\n",
        "# f_and_g = df[(df[\"grade\"] == \"G\") | (df[\"grade\"] == \"F\")]\n",
        "# order_list = sorted(f_and_g[\"subgrade\"].unique())\n",
        "plt.figure(figsize=(12,4))\n",
        "order_list = [\"F1\",\"F2\",\"F3\",\"F4\",\"F5\",\"G1\",\"G2\",\"G3\",\"G4\",\"G5\"]\n",
        "sns.countplot(x=\"sub_grade\", data=df, order=order_list, hue=\"loan_status\")"
      ],
      "execution_count": 27,
      "outputs": [
        {
          "output_type": "execute_result",
          "data": {
            "text/plain": [
              "<matplotlib.axes._subplots.AxesSubplot at 0x7f50652f2050>"
            ]
          },
          "metadata": {
            "tags": []
          },
          "execution_count": 27
        },
        {
          "output_type": "display_data",
          "data": {
            "image/png": "[encoded data removed]",
            "text/plain": [
              "<Figure size 864x288 with 1 Axes>"
            ]
          },
          "metadata": {
            "tags": [],
            "needs_background": "light"
          }
        }
      ]
    },
    {
      "cell_type": "markdown",
      "metadata": {
        "id": "5HA4QYSbih4x"
      },
      "source": [
        "**TASK: Create a new column called 'loan_repaid' which will contain a 1 if the loan status was \"Fully Paid\" and a 0 if it was \"Charged Off\".**"
      ]
    },
    {
      "cell_type": "code",
      "metadata": {
        "colab": {
          "base_uri": "https://localhost:8080/"
        },
        "id": "F9Ri9N2Eih4y",
        "outputId": "6b208d20-9d7f-41de-ac73-27633de8bfca"
      },
      "source": [
        "# CODE HERE\n",
        "df[\"loan_status\"].unique()"
      ],
      "execution_count": 28,
      "outputs": [
        {
          "output_type": "execute_result",
          "data": {
            "text/plain": [
              "array(['Fully Paid', 'Charged Off'], dtype=object)"
            ]
          },
          "metadata": {
            "tags": []
          },
          "execution_count": 28
        }
      ]
    },
    {
      "cell_type": "code",
      "metadata": {
        "id": "SFkK6SsRih4y"
      },
      "source": [
        "def loan_repaid(status):\n",
        "  if status == \"Fully Paid\":\n",
        "    return 1\n",
        "  elif status == \"Charged Off\":\n",
        "    return 0\n"
      ],
      "execution_count": 29,
      "outputs": []
    },
    {
      "cell_type": "code",
      "metadata": {
        "id": "BNye8haVjymZ"
      },
      "source": [
        " df[\"loan_repaid\"] = df[\"loan_status\"].apply(loan_repaid)"
      ],
      "execution_count": 30,
      "outputs": []
    },
    {
      "cell_type": "code",
      "metadata": {
        "colab": {
          "base_uri": "https://localhost:8080/",
          "height": 419
        },
        "id": "fsUE5Vydih4y",
        "outputId": "2a11d8ea-0f22-487f-eb1a-c042ec125a3a"
      },
      "source": [
        "df[[\"loan_repaid\", \"loan_status\"]]"
      ],
      "execution_count": 31,
      "outputs": [
        {
          "output_type": "execute_result",
          "data": {
            "text/html": [
              "<div>\n",
              "<style scoped>\n",
              "    .dataframe tbody tr th:only-of-type {\n",
              "        vertical-align: middle;\n",
              "    }\n",
              "\n",
              "    .dataframe tbody tr th {\n",
              "        vertical-align: top;\n",
              "    }\n",
              "\n",
              "    .dataframe thead th {\n",
              "        text-align: right;\n",
              "    }\n",
              "</style>\n",
              "<table border=\"1\" class=\"dataframe\">\n",
              "  <thead>\n",
              "    <tr style=\"text-align: right;\">\n",
              "      <th></th>\n",
              "      <th>loan_repaid</th>\n",
              "      <th>loan_status</th>\n",
              "    </tr>\n",
              "  </thead>\n",
              "  <tbody>\n",
              "    <tr>\n",
              "      <th>0</th>\n",
              "      <td>1</td>\n",
              "      <td>Fully Paid</td>\n",
              "    </tr>\n",
              "    <tr>\n",
              "      <th>1</th>\n",
              "      <td>1</td>\n",
              "      <td>Fully Paid</td>\n",
              "    </tr>\n",
              "    <tr>\n",
              "      <th>2</th>\n",
              "      <td>1</td>\n",
              "      <td>Fully Paid</td>\n",
              "    </tr>\n",
              "    <tr>\n",
              "      <th>3</th>\n",
              "      <td>1</td>\n",
              "      <td>Fully Paid</td>\n",
              "    </tr>\n",
              "    <tr>\n",
              "      <th>4</th>\n",
              "      <td>0</td>\n",
              "      <td>Charged Off</td>\n",
              "    </tr>\n",
              "    <tr>\n",
              "      <th>...</th>\n",
              "      <td>...</td>\n",
              "      <td>...</td>\n",
              "    </tr>\n",
              "    <tr>\n",
              "      <th>396025</th>\n",
              "      <td>1</td>\n",
              "      <td>Fully Paid</td>\n",
              "    </tr>\n",
              "    <tr>\n",
              "      <th>396026</th>\n",
              "      <td>1</td>\n",
              "      <td>Fully Paid</td>\n",
              "    </tr>\n",
              "    <tr>\n",
              "      <th>396027</th>\n",
              "      <td>1</td>\n",
              "      <td>Fully Paid</td>\n",
              "    </tr>\n",
              "    <tr>\n",
              "      <th>396028</th>\n",
              "      <td>1</td>\n",
              "      <td>Fully Paid</td>\n",
              "    </tr>\n",
              "    <tr>\n",
              "      <th>396029</th>\n",
              "      <td>1</td>\n",
              "      <td>Fully Paid</td>\n",
              "    </tr>\n",
              "  </tbody>\n",
              "</table>\n",
              "<p>396030 rows × 2 columns</p>\n",
              "</div>"
            ],
            "text/plain": [
              "        loan_repaid  loan_status\n",
              "0                 1   Fully Paid\n",
              "1                 1   Fully Paid\n",
              "2                 1   Fully Paid\n",
              "3                 1   Fully Paid\n",
              "4                 0  Charged Off\n",
              "...             ...          ...\n",
              "396025            1   Fully Paid\n",
              "396026            1   Fully Paid\n",
              "396027            1   Fully Paid\n",
              "396028            1   Fully Paid\n",
              "396029            1   Fully Paid\n",
              "\n",
              "[396030 rows x 2 columns]"
            ]
          },
          "metadata": {
            "tags": []
          },
          "execution_count": 31
        }
      ]
    },
    {
      "cell_type": "markdown",
      "metadata": {
        "id": "RhI6rBjvih4y"
      },
      "source": [
        "**CHALLENGE TASK: (Note this is hard, but can be done in one line!) Create a bar plot showing the correlation of the numeric features to the new loan_repaid column. [Helpful Link](https://pandas.pydata.org/pandas-docs/stable/reference/api/pandas.DataFrame.plot.bar.html)**"
      ]
    },
    {
      "cell_type": "code",
      "metadata": {
        "colab": {
          "base_uri": "https://localhost:8080/",
          "height": 382
        },
        "id": "oxSaDi6Yih4y",
        "outputId": "7be23173-1ffc-416a-ff8c-e940a6df3efc"
      },
      "source": [
        "#CODE HERE\n",
        "df.corr()[\"loan_repaid\"].sort_values().drop(\"loan_repaid\").plot(kind=\"bar\")"
      ],
      "execution_count": 32,
      "outputs": [
        {
          "output_type": "execute_result",
          "data": {
            "text/plain": [
              "<matplotlib.axes._subplots.AxesSubplot at 0x7f506242f250>"
            ]
          },
          "metadata": {
            "tags": []
          },
          "execution_count": 32
        },
        {
          "output_type": "display_data",
          "data": {
            "image/png": "[encoded data removed]",
            "text/plain": [
              "<Figure size 432x288 with 1 Axes>"
            ]
          },
          "metadata": {
            "tags": [],
            "needs_background": "light"
          }
        }
      ]
    },
    {
      "cell_type": "markdown",
      "metadata": {
        "id": "yQfMgUgmih4y"
      },
      "source": [
        "---\n",
        "---\n",
        "# Section 2: Data PreProcessing\n",
        "\n",
        "**Section Goals: Remove or fill any missing data. Remove unnecessary or repetitive features. Convert categorical string features to dummy variables.**\n",
        "\n"
      ]
    },
    {
      "cell_type": "code",
      "metadata": {
        "colab": {
          "base_uri": "https://localhost:8080/",
          "height": 0
        },
        "id": "EB6A4Pu5ih4y",
        "outputId": "d726acbd-5238-4157-824a-fc1b6d4d3049"
      },
      "source": [
        "df.head()"
      ],
      "execution_count": 33,
      "outputs": [
        {
          "output_type": "execute_result",
          "data": {
            "text/html": [
              "<div>\n",
              "<style scoped>\n",
              "    .dataframe tbody tr th:only-of-type {\n",
              "        vertical-align: middle;\n",
              "    }\n",
              "\n",
              "    .dataframe tbody tr th {\n",
              "        vertical-align: top;\n",
              "    }\n",
              "\n",
              "    .dataframe thead th {\n",
              "        text-align: right;\n",
              "    }\n",
              "</style>\n",
              "<table border=\"1\" class=\"dataframe\">\n",
              "  <thead>\n",
              "    <tr style=\"text-align: right;\">\n",
              "      <th></th>\n",
              "      <th>loan_amnt</th>\n",
              "      <th>term</th>\n",
              "      <th>int_rate</th>\n",
              "      <th>installment</th>\n",
              "      <th>grade</th>\n",
              "      <th>sub_grade</th>\n",
              "      <th>emp_title</th>\n",
              "      <th>emp_length</th>\n",
              "      <th>home_ownership</th>\n",
              "      <th>annual_inc</th>\n",
              "      <th>verification_status</th>\n",
              "      <th>issue_d</th>\n",
              "      <th>loan_status</th>\n",
              "      <th>purpose</th>\n",
              "      <th>title</th>\n",
              "      <th>dti</th>\n",
              "      <th>earliest_cr_line</th>\n",
              "      <th>open_acc</th>\n",
              "      <th>pub_rec</th>\n",
              "      <th>revol_bal</th>\n",
              "      <th>revol_util</th>\n",
              "      <th>total_acc</th>\n",
              "      <th>initial_list_status</th>\n",
              "      <th>application_type</th>\n",
              "      <th>mort_acc</th>\n",
              "      <th>pub_rec_bankruptcies</th>\n",
              "      <th>address</th>\n",
              "      <th>loan_repaid</th>\n",
              "    </tr>\n",
              "  </thead>\n",
              "  <tbody>\n",
              "    <tr>\n",
              "      <th>0</th>\n",
              "      <td>10000.0</td>\n",
              "      <td>36 months</td>\n",
              "      <td>11.44</td>\n",
              "      <td>329.48</td>\n",
              "      <td>B</td>\n",
              "      <td>B4</td>\n",
              "      <td>Marketing</td>\n",
              "      <td>10+ years</td>\n",
              "      <td>RENT</td>\n",
              "      <td>117000.0</td>\n",
              "      <td>Not Verified</td>\n",
              "      <td>Jan-2015</td>\n",
              "      <td>Fully Paid</td>\n",
              "      <td>vacation</td>\n",
              "      <td>Vacation</td>\n",
              "      <td>26.24</td>\n",
              "      <td>Jun-1990</td>\n",
              "      <td>16.0</td>\n",
              "      <td>0.0</td>\n",
              "      <td>36369.0</td>\n",
              "      <td>41.8</td>\n",
              "      <td>25.0</td>\n",
              "      <td>w</td>\n",
              "      <td>INDIVIDUAL</td>\n",
              "      <td>0.0</td>\n",
              "      <td>0.0</td>\n",
              "      <td>0174 Michelle Gateway\\r\\nMendozaberg, OK 22690</td>\n",
              "      <td>1</td>\n",
              "    </tr>\n",
              "    <tr>\n",
              "      <th>1</th>\n",
              "      <td>8000.0</td>\n",
              "      <td>36 months</td>\n",
              "      <td>11.99</td>\n",
              "      <td>265.68</td>\n",
              "      <td>B</td>\n",
              "      <td>B5</td>\n",
              "      <td>Credit analyst</td>\n",
              "      <td>4 years</td>\n",
              "      <td>MORTGAGE</td>\n",
              "      <td>65000.0</td>\n",
              "      <td>Not Verified</td>\n",
              "      <td>Jan-2015</td>\n",
              "      <td>Fully Paid</td>\n",
              "      <td>debt_consolidation</td>\n",
              "      <td>Debt consolidation</td>\n",
              "      <td>22.05</td>\n",
              "      <td>Jul-2004</td>\n",
              "      <td>17.0</td>\n",
              "      <td>0.0</td>\n",
              "      <td>20131.0</td>\n",
              "      <td>53.3</td>\n",
              "      <td>27.0</td>\n",
              "      <td>f</td>\n",
              "      <td>INDIVIDUAL</td>\n",
              "      <td>3.0</td>\n",
              "      <td>0.0</td>\n",
              "      <td>1076 Carney Fort Apt. 347\\r\\nLoganmouth, SD 05113</td>\n",
              "      <td>1</td>\n",
              "    </tr>\n",
              "    <tr>\n",
              "      <th>2</th>\n",
              "      <td>15600.0</td>\n",
              "      <td>36 months</td>\n",
              "      <td>10.49</td>\n",
              "      <td>506.97</td>\n",
              "      <td>B</td>\n",
              "      <td>B3</td>\n",
              "      <td>Statistician</td>\n",
              "      <td>&lt; 1 year</td>\n",
              "      <td>RENT</td>\n",
              "      <td>43057.0</td>\n",
              "      <td>Source Verified</td>\n",
              "      <td>Jan-2015</td>\n",
              "      <td>Fully Paid</td>\n",
              "      <td>credit_card</td>\n",
              "      <td>Credit card refinancing</td>\n",
              "      <td>12.79</td>\n",
              "      <td>Aug-2007</td>\n",
              "      <td>13.0</td>\n",
              "      <td>0.0</td>\n",
              "      <td>11987.0</td>\n",
              "      <td>92.2</td>\n",
              "      <td>26.0</td>\n",
              "      <td>f</td>\n",
              "      <td>INDIVIDUAL</td>\n",
              "      <td>0.0</td>\n",
              "      <td>0.0</td>\n",
              "      <td>87025 Mark Dale Apt. 269\\r\\nNew Sabrina, WV 05113</td>\n",
              "      <td>1</td>\n",
              "    </tr>\n",
              "    <tr>\n",
              "      <th>3</th>\n",
              "      <td>7200.0</td>\n",
              "      <td>36 months</td>\n",
              "      <td>6.49</td>\n",
              "      <td>220.65</td>\n",
              "      <td>A</td>\n",
              "      <td>A2</td>\n",
              "      <td>Client Advocate</td>\n",
              "      <td>6 years</td>\n",
              "      <td>RENT</td>\n",
              "      <td>54000.0</td>\n",
              "      <td>Not Verified</td>\n",
              "      <td>Nov-2014</td>\n",
              "      <td>Fully Paid</td>\n",
              "      <td>credit_card</td>\n",
              "      <td>Credit card refinancing</td>\n",
              "      <td>2.60</td>\n",
              "      <td>Sep-2006</td>\n",
              "      <td>6.0</td>\n",
              "      <td>0.0</td>\n",
              "      <td>5472.0</td>\n",
              "      <td>21.5</td>\n",
              "      <td>13.0</td>\n",
              "      <td>f</td>\n",
              "      <td>INDIVIDUAL</td>\n",
              "      <td>0.0</td>\n",
              "      <td>0.0</td>\n",
              "      <td>823 Reid Ford\\r\\nDelacruzside, MA 00813</td>\n",
              "      <td>1</td>\n",
              "    </tr>\n",
              "    <tr>\n",
              "      <th>4</th>\n",
              "      <td>24375.0</td>\n",
              "      <td>60 months</td>\n",
              "      <td>17.27</td>\n",
              "      <td>609.33</td>\n",
              "      <td>C</td>\n",
              "      <td>C5</td>\n",
              "      <td>Destiny Management Inc.</td>\n",
              "      <td>9 years</td>\n",
              "      <td>MORTGAGE</td>\n",
              "      <td>55000.0</td>\n",
              "      <td>Verified</td>\n",
              "      <td>Apr-2013</td>\n",
              "      <td>Charged Off</td>\n",
              "      <td>credit_card</td>\n",
              "      <td>Credit Card Refinance</td>\n",
              "      <td>33.95</td>\n",
              "      <td>Mar-1999</td>\n",
              "      <td>13.0</td>\n",
              "      <td>0.0</td>\n",
              "      <td>24584.0</td>\n",
              "      <td>69.8</td>\n",
              "      <td>43.0</td>\n",
              "      <td>f</td>\n",
              "      <td>INDIVIDUAL</td>\n",
              "      <td>1.0</td>\n",
              "      <td>0.0</td>\n",
              "      <td>679 Luna Roads\\r\\nGreggshire, VA 11650</td>\n",
              "      <td>0</td>\n",
              "    </tr>\n",
              "  </tbody>\n",
              "</table>\n",
              "</div>"
            ],
            "text/plain": [
              "   loan_amnt  ... loan_repaid\n",
              "0    10000.0  ...           1\n",
              "1     8000.0  ...           1\n",
              "2    15600.0  ...           1\n",
              "3     7200.0  ...           1\n",
              "4    24375.0  ...           0\n",
              "\n",
              "[5 rows x 28 columns]"
            ]
          },
          "metadata": {
            "tags": []
          },
          "execution_count": 33
        }
      ]
    },
    {
      "cell_type": "markdown",
      "metadata": {
        "id": "nMrU379rih4y"
      },
      "source": [
        "# Missing Data\n",
        "\n",
        "**Let's explore this missing data columns. We use a variety of factors to decide whether or not they would be useful, to see if we should keep, discard, or fill in the missing data.**"
      ]
    },
    {
      "cell_type": "markdown",
      "metadata": {
        "id": "buqeW-AUih4y"
      },
      "source": [
        "**TASK: What is the length of the dataframe?**"
      ]
    },
    {
      "cell_type": "code",
      "metadata": {
        "colab": {
          "base_uri": "https://localhost:8080/"
        },
        "id": "dif0fn9cih4y",
        "outputId": "9845098b-41bc-4c5f-ee4c-22755358ebd2"
      },
      "source": [
        "# CODE HERE\n",
        "len(df)"
      ],
      "execution_count": 34,
      "outputs": [
        {
          "output_type": "execute_result",
          "data": {
            "text/plain": [
              "396030"
            ]
          },
          "metadata": {
            "tags": []
          },
          "execution_count": 34
        }
      ]
    },
    {
      "cell_type": "markdown",
      "metadata": {
        "id": "xYs1qFTjih4z"
      },
      "source": [
        "**TASK: Create a Series that displays the total count of missing values per column.**"
      ]
    },
    {
      "cell_type": "code",
      "metadata": {
        "colab": {
          "base_uri": "https://localhost:8080/"
        },
        "id": "8IwVJKRAih4z",
        "outputId": "22b516ae-33cc-449a-f4c7-ef9b2a0b1cf5"
      },
      "source": [
        "# CODE HERE\n",
        "df.isnull().sum()"
      ],
      "execution_count": 35,
      "outputs": [
        {
          "output_type": "execute_result",
          "data": {
            "text/plain": [
              "loan_amnt                   0\n",
              "term                        0\n",
              "int_rate                    0\n",
              "installment                 0\n",
              "grade                       0\n",
              "sub_grade                   0\n",
              "emp_title               22927\n",
              "emp_length              18301\n",
              "home_ownership              0\n",
              "annual_inc                  0\n",
              "verification_status         0\n",
              "issue_d                     0\n",
              "loan_status                 0\n",
              "purpose                     0\n",
              "title                    1755\n",
              "dti                         0\n",
              "earliest_cr_line            0\n",
              "open_acc                    0\n",
              "pub_rec                     0\n",
              "revol_bal                   0\n",
              "revol_util                276\n",
              "total_acc                   0\n",
              "initial_list_status         0\n",
              "application_type            0\n",
              "mort_acc                37795\n",
              "pub_rec_bankruptcies      535\n",
              "address                     0\n",
              "loan_repaid                 0\n",
              "dtype: int64"
            ]
          },
          "metadata": {
            "tags": []
          },
          "execution_count": 35
        }
      ]
    },
    {
      "cell_type": "markdown",
      "metadata": {
        "id": "WMiFG11fih4z"
      },
      "source": [
        "**TASK: Convert this Series to be in term of percentage of the total DataFrame**"
      ]
    },
    {
      "cell_type": "code",
      "metadata": {
        "colab": {
          "base_uri": "https://localhost:8080/"
        },
        "id": "D-uMa-9Gih4z",
        "outputId": "d3d99bf1-a470-4d6f-b630-bc2bc6e43a70"
      },
      "source": [
        "# CODE HERE\n",
        "(df.isnull().sum() / len(df)) * 100"
      ],
      "execution_count": 36,
      "outputs": [
        {
          "output_type": "execute_result",
          "data": {
            "text/plain": [
              "loan_amnt               0.000000\n",
              "term                    0.000000\n",
              "int_rate                0.000000\n",
              "installment             0.000000\n",
              "grade                   0.000000\n",
              "sub_grade               0.000000\n",
              "emp_title               5.789208\n",
              "emp_length              4.621115\n",
              "home_ownership          0.000000\n",
              "annual_inc              0.000000\n",
              "verification_status     0.000000\n",
              "issue_d                 0.000000\n",
              "loan_status             0.000000\n",
              "purpose                 0.000000\n",
              "title                   0.443148\n",
              "dti                     0.000000\n",
              "earliest_cr_line        0.000000\n",
              "open_acc                0.000000\n",
              "pub_rec                 0.000000\n",
              "revol_bal               0.000000\n",
              "revol_util              0.069692\n",
              "total_acc               0.000000\n",
              "initial_list_status     0.000000\n",
              "application_type        0.000000\n",
              "mort_acc                9.543469\n",
              "pub_rec_bankruptcies    0.135091\n",
              "address                 0.000000\n",
              "loan_repaid             0.000000\n",
              "dtype: float64"
            ]
          },
          "metadata": {
            "tags": []
          },
          "execution_count": 36
        }
      ]
    },
    {
      "cell_type": "markdown",
      "metadata": {
        "id": "GyvmdQi7ih4z"
      },
      "source": [
        "**TASK: Let's examine emp_title and emp_length to see whether it will be okay to drop them. Print out their feature information using the feat_info() function from the top of this notebook.**"
      ]
    },
    {
      "cell_type": "code",
      "metadata": {
        "colab": {
          "base_uri": "https://localhost:8080/"
        },
        "id": "GfFM4aqnih4z",
        "outputId": "8333156e-8fad-41a4-8bf7-a6561ae476ef"
      },
      "source": [
        "# CODE HERE\n",
        "feat_info(\"emp_title\")\n",
        "feat_info(\"emp_length\")"
      ],
      "execution_count": 37,
      "outputs": [
        {
          "output_type": "stream",
          "text": [
            "The job title supplied by the Borrower when applying for the loan.*\n",
            "Employment length in years. Possible values are between 0 and 10 where 0 means less than one year and 10 means ten or more years. \n"
          ],
          "name": "stdout"
        }
      ]
    },
    {
      "cell_type": "markdown",
      "metadata": {
        "id": "OIBM333Wih4z"
      },
      "source": [
        "**TASK: How many unique employment job titles are there?**"
      ]
    },
    {
      "cell_type": "code",
      "metadata": {
        "colab": {
          "base_uri": "https://localhost:8080/"
        },
        "id": "SOPT_v33ih4z",
        "outputId": "fe787ba1-7d1a-4834-c5ba-8307798b600e"
      },
      "source": [
        "# CODE HERE\n",
        "df[\"emp_title\"].nunique()"
      ],
      "execution_count": 38,
      "outputs": [
        {
          "output_type": "execute_result",
          "data": {
            "text/plain": [
              "173105"
            ]
          },
          "metadata": {
            "tags": []
          },
          "execution_count": 38
        }
      ]
    },
    {
      "cell_type": "code",
      "metadata": {
        "colab": {
          "base_uri": "https://localhost:8080/"
        },
        "id": "7k0PYRJYlWd2",
        "outputId": "b7f46280-730e-462e-e2e1-caa8cdb95046"
      },
      "source": [
        "df[\"emp_title\"].value_counts()"
      ],
      "execution_count": 39,
      "outputs": [
        {
          "output_type": "execute_result",
          "data": {
            "text/plain": [
              "Teacher                         4389\n",
              "Manager                         4250\n",
              "Registered Nurse                1856\n",
              "RN                              1846\n",
              "Supervisor                      1830\n",
              "                                ... \n",
              "TRAIN OPERATOR                     1\n",
              "RPI Management                     1\n",
              "FIELD SALES SUPERVISOR             1\n",
              "American Security Associates       1\n",
              "Metpar Corp                        1\n",
              "Name: emp_title, Length: 173105, dtype: int64"
            ]
          },
          "metadata": {
            "tags": []
          },
          "execution_count": 39
        }
      ]
    },
    {
      "cell_type": "markdown",
      "metadata": {
        "id": "HSxaq6DSih40"
      },
      "source": [
        "**TASK: Realistically there are too many unique job titles to try to convert this to a dummy variable feature. Let's remove that emp_title column.**"
      ]
    },
    {
      "cell_type": "code",
      "metadata": {
        "id": "0Ul6yxOjih40"
      },
      "source": [
        "# CODE HERE\n",
        "df = df.drop(\"emp_title\", axis=1)"
      ],
      "execution_count": 40,
      "outputs": []
    },
    {
      "cell_type": "markdown",
      "metadata": {
        "id": "m5kdSIQxih40"
      },
      "source": [
        "**TASK: Create a count plot of the emp_length feature column. Challenge: Sort the order of the values.**"
      ]
    },
    {
      "cell_type": "code",
      "metadata": {
        "id": "YaCbBhYLih40"
      },
      "source": [
        "# CODE HERE\n",
        "order_list1 = sorted(df[\"emp_length\"].dropna().unique())"
      ],
      "execution_count": 41,
      "outputs": []
    },
    {
      "cell_type": "code",
      "metadata": {
        "id": "V-h6MRt6ih40",
        "colab": {
          "base_uri": "https://localhost:8080/",
          "height": 406
        },
        "outputId": "39e1e13d-357b-49e2-d61f-e8d44f5f73bc"
      },
      "source": [
        "plt.figure(figsize=(12,6))\n",
        "order_list1 = [\"< 1 year\", \"1 year\", \"2 years\", \"3 years\", \"4 years\", \"5 years\", \"6 years\", \"7 years\", \"8 years\", \"9 years\", \"10+ years\"]\n",
        "sns.countplot(x=\"emp_length\", data=df, order=order_list1)"
      ],
      "execution_count": 42,
      "outputs": [
        {
          "output_type": "execute_result",
          "data": {
            "text/plain": [
              "<matplotlib.axes._subplots.AxesSubplot at 0x7f506253e350>"
            ]
          },
          "metadata": {
            "tags": []
          },
          "execution_count": 42
        },
        {
          "output_type": "display_data",
          "data": {
            "image/png": "[encoded data removed]",
            "text/plain": [
              "<Figure size 864x432 with 1 Axes>"
            ]
          },
          "metadata": {
            "tags": [],
            "needs_background": "light"
          }
        }
      ]
    },
    {
      "cell_type": "markdown",
      "metadata": {
        "id": "tzNeJW3yih40"
      },
      "source": [
        "**TASK: Plot out the countplot with a hue separating Fully Paid vs Charged Off**"
      ]
    },
    {
      "cell_type": "code",
      "metadata": {
        "id": "PYaELLKhih40",
        "colab": {
          "base_uri": "https://localhost:8080/",
          "height": 406
        },
        "outputId": "1cf51ff2-d9ea-4359-d089-f3b0fa730559"
      },
      "source": [
        "# CODE HERE\n",
        "plt.figure(figsize=(12,6))\n",
        "order_list1 = [\"< 1 year\", \"1 year\", \"2 years\", \"3 years\", \"4 years\", \"5 years\", \"6 years\", \"7 years\", \"8 years\", \"9 years\", \"10+ years\"]\n",
        "sns.countplot(x=\"emp_length\", data=df, order=order_list1, hue=\"loan_status\")"
      ],
      "execution_count": 43,
      "outputs": [
        {
          "output_type": "execute_result",
          "data": {
            "text/plain": [
              "<matplotlib.axes._subplots.AxesSubplot at 0x7f506231a9d0>"
            ]
          },
          "metadata": {
            "tags": []
          },
          "execution_count": 43
        },
        {
          "output_type": "display_data",
          "data": {
            "image/png": "[encoded data removed]",
            "text/plain": [
              "<Figure size 864x432 with 1 Axes>"
            ]
          },
          "metadata": {
            "tags": [],
            "needs_background": "light"
          }
        }
      ]
    },
    {
      "cell_type": "markdown",
      "metadata": {
        "id": "T2GcKJBiih40"
      },
      "source": [
        "**CHALLENGE TASK: This still doesn't really inform us if there is a strong relationship between employment length and being charged off, what we want is the percentage of charge offs per category. Essentially informing us what percent of people per employment category didn't pay back their loan. There are a multitude of ways to create this Series. Once you've created it, see if visualize it with a [bar plot](https://pandas.pydata.org/pandas-docs/version/0.23.4/generated/pandas.DataFrame.plot.html). This may be tricky, refer to solutions if you get stuck on creating this Series.**"
      ]
    },
    {
      "cell_type": "code",
      "metadata": {
        "id": "uadgXpwmih41"
      },
      "source": [
        "# CODE HERE\n",
        "total = df.groupby(\"emp_length\").count()[\"loan_repaid\"]"
      ],
      "execution_count": 44,
      "outputs": []
    },
    {
      "cell_type": "code",
      "metadata": {
        "id": "RC-I7osQih41"
      },
      "source": [
        "paid = df.groupby(\"emp_length\").sum()[\"loan_repaid\"]"
      ],
      "execution_count": 45,
      "outputs": []
    },
    {
      "cell_type": "code",
      "metadata": {
        "id": "xaBSZtzuih41"
      },
      "source": [
        "prob = (total - paid) / paid"
      ],
      "execution_count": 46,
      "outputs": []
    },
    {
      "cell_type": "code",
      "metadata": {
        "id": "4kDIUZRjih41",
        "colab": {
          "base_uri": "https://localhost:8080/",
          "height": 339
        },
        "outputId": "d91fc4ee-c0a1-47e8-c181-1bd5ed7cf543"
      },
      "source": [
        "prob.plot(kind=\"bar\")"
      ],
      "execution_count": 47,
      "outputs": [
        {
          "output_type": "execute_result",
          "data": {
            "text/plain": [
              "<matplotlib.axes._subplots.AxesSubplot at 0x7f5062664d90>"
            ]
          },
          "metadata": {
            "tags": []
          },
          "execution_count": 47
        },
        {
          "output_type": "display_data",
          "data": {
            "image/png": "[encoded data removed]",
            "text/plain": [
              "<Figure size 432x288 with 1 Axes>"
            ]
          },
          "metadata": {
            "tags": [],
            "needs_background": "light"
          }
        }
      ]
    },
    {
      "cell_type": "markdown",
      "metadata": {
        "id": "4nnbgwmVih41"
      },
      "source": [
        "**TASK: Charge off rates are extremely similar across all employment lengths. Go ahead and drop the emp_length column.**"
      ]
    },
    {
      "cell_type": "markdown",
      "metadata": {
        "id": "vX6B7cV5RNbD"
      },
      "source": [
        ""
      ]
    },
    {
      "cell_type": "code",
      "metadata": {
        "id": "vP-Cphslih41"
      },
      "source": [
        "df = df.drop(\"emp_length\", axis=1)"
      ],
      "execution_count": 48,
      "outputs": []
    },
    {
      "cell_type": "code",
      "metadata": {
        "colab": {
          "base_uri": "https://localhost:8080/",
          "height": 728
        },
        "id": "9XIh0LS7RQc_",
        "outputId": "dcd8cd5f-bb7a-4082-aa89-5d073d8b3ac3"
      },
      "source": [
        "df"
      ],
      "execution_count": 49,
      "outputs": [
        {
          "output_type": "execute_result",
          "data": {
            "text/html": [
              "<div>\n",
              "<style scoped>\n",
              "    .dataframe tbody tr th:only-of-type {\n",
              "        vertical-align: middle;\n",
              "    }\n",
              "\n",
              "    .dataframe tbody tr th {\n",
              "        vertical-align: top;\n",
              "    }\n",
              "\n",
              "    .dataframe thead th {\n",
              "        text-align: right;\n",
              "    }\n",
              "</style>\n",
              "<table border=\"1\" class=\"dataframe\">\n",
              "  <thead>\n",
              "    <tr style=\"text-align: right;\">\n",
              "      <th></th>\n",
              "      <th>loan_amnt</th>\n",
              "      <th>term</th>\n",
              "      <th>int_rate</th>\n",
              "      <th>installment</th>\n",
              "      <th>grade</th>\n",
              "      <th>sub_grade</th>\n",
              "      <th>home_ownership</th>\n",
              "      <th>annual_inc</th>\n",
              "      <th>verification_status</th>\n",
              "      <th>issue_d</th>\n",
              "      <th>loan_status</th>\n",
              "      <th>purpose</th>\n",
              "      <th>title</th>\n",
              "      <th>dti</th>\n",
              "      <th>earliest_cr_line</th>\n",
              "      <th>open_acc</th>\n",
              "      <th>pub_rec</th>\n",
              "      <th>revol_bal</th>\n",
              "      <th>revol_util</th>\n",
              "      <th>total_acc</th>\n",
              "      <th>initial_list_status</th>\n",
              "      <th>application_type</th>\n",
              "      <th>mort_acc</th>\n",
              "      <th>pub_rec_bankruptcies</th>\n",
              "      <th>address</th>\n",
              "      <th>loan_repaid</th>\n",
              "    </tr>\n",
              "  </thead>\n",
              "  <tbody>\n",
              "    <tr>\n",
              "      <th>0</th>\n",
              "      <td>10000.0</td>\n",
              "      <td>36 months</td>\n",
              "      <td>11.44</td>\n",
              "      <td>329.48</td>\n",
              "      <td>B</td>\n",
              "      <td>B4</td>\n",
              "      <td>RENT</td>\n",
              "      <td>117000.0</td>\n",
              "      <td>Not Verified</td>\n",
              "      <td>Jan-2015</td>\n",
              "      <td>Fully Paid</td>\n",
              "      <td>vacation</td>\n",
              "      <td>Vacation</td>\n",
              "      <td>26.24</td>\n",
              "      <td>Jun-1990</td>\n",
              "      <td>16.0</td>\n",
              "      <td>0.0</td>\n",
              "      <td>36369.0</td>\n",
              "      <td>41.8</td>\n",
              "      <td>25.0</td>\n",
              "      <td>w</td>\n",
              "      <td>INDIVIDUAL</td>\n",
              "      <td>0.0</td>\n",
              "      <td>0.0</td>\n",
              "      <td>0174 Michelle Gateway\\r\\nMendozaberg, OK 22690</td>\n",
              "      <td>1</td>\n",
              "    </tr>\n",
              "    <tr>\n",
              "      <th>1</th>\n",
              "      <td>8000.0</td>\n",
              "      <td>36 months</td>\n",
              "      <td>11.99</td>\n",
              "      <td>265.68</td>\n",
              "      <td>B</td>\n",
              "      <td>B5</td>\n",
              "      <td>MORTGAGE</td>\n",
              "      <td>65000.0</td>\n",
              "      <td>Not Verified</td>\n",
              "      <td>Jan-2015</td>\n",
              "      <td>Fully Paid</td>\n",
              "      <td>debt_consolidation</td>\n",
              "      <td>Debt consolidation</td>\n",
              "      <td>22.05</td>\n",
              "      <td>Jul-2004</td>\n",
              "      <td>17.0</td>\n",
              "      <td>0.0</td>\n",
              "      <td>20131.0</td>\n",
              "      <td>53.3</td>\n",
              "      <td>27.0</td>\n",
              "      <td>f</td>\n",
              "      <td>INDIVIDUAL</td>\n",
              "      <td>3.0</td>\n",
              "      <td>0.0</td>\n",
              "      <td>1076 Carney Fort Apt. 347\\r\\nLoganmouth, SD 05113</td>\n",
              "      <td>1</td>\n",
              "    </tr>\n",
              "    <tr>\n",
              "      <th>2</th>\n",
              "      <td>15600.0</td>\n",
              "      <td>36 months</td>\n",
              "      <td>10.49</td>\n",
              "      <td>506.97</td>\n",
              "      <td>B</td>\n",
              "      <td>B3</td>\n",
              "      <td>RENT</td>\n",
              "      <td>43057.0</td>\n",
              "      <td>Source Verified</td>\n",
              "      <td>Jan-2015</td>\n",
              "      <td>Fully Paid</td>\n",
              "      <td>credit_card</td>\n",
              "      <td>Credit card refinancing</td>\n",
              "      <td>12.79</td>\n",
              "      <td>Aug-2007</td>\n",
              "      <td>13.0</td>\n",
              "      <td>0.0</td>\n",
              "      <td>11987.0</td>\n",
              "      <td>92.2</td>\n",
              "      <td>26.0</td>\n",
              "      <td>f</td>\n",
              "      <td>INDIVIDUAL</td>\n",
              "      <td>0.0</td>\n",
              "      <td>0.0</td>\n",
              "      <td>87025 Mark Dale Apt. 269\\r\\nNew Sabrina, WV 05113</td>\n",
              "      <td>1</td>\n",
              "    </tr>\n",
              "    <tr>\n",
              "      <th>3</th>\n",
              "      <td>7200.0</td>\n",
              "      <td>36 months</td>\n",
              "      <td>6.49</td>\n",
              "      <td>220.65</td>\n",
              "      <td>A</td>\n",
              "      <td>A2</td>\n",
              "      <td>RENT</td>\n",
              "      <td>54000.0</td>\n",
              "      <td>Not Verified</td>\n",
              "      <td>Nov-2014</td>\n",
              "      <td>Fully Paid</td>\n",
              "      <td>credit_card</td>\n",
              "      <td>Credit card refinancing</td>\n",
              "      <td>2.60</td>\n",
              "      <td>Sep-2006</td>\n",
              "      <td>6.0</td>\n",
              "      <td>0.0</td>\n",
              "      <td>5472.0</td>\n",
              "      <td>21.5</td>\n",
              "      <td>13.0</td>\n",
              "      <td>f</td>\n",
              "      <td>INDIVIDUAL</td>\n",
              "      <td>0.0</td>\n",
              "      <td>0.0</td>\n",
              "      <td>823 Reid Ford\\r\\nDelacruzside, MA 00813</td>\n",
              "      <td>1</td>\n",
              "    </tr>\n",
              "    <tr>\n",
              "      <th>4</th>\n",
              "      <td>24375.0</td>\n",
              "      <td>60 months</td>\n",
              "      <td>17.27</td>\n",
              "      <td>609.33</td>\n",
              "      <td>C</td>\n",
              "      <td>C5</td>\n",
              "      <td>MORTGAGE</td>\n",
              "      <td>55000.0</td>\n",
              "      <td>Verified</td>\n",
              "      <td>Apr-2013</td>\n",
              "      <td>Charged Off</td>\n",
              "      <td>credit_card</td>\n",
              "      <td>Credit Card Refinance</td>\n",
              "      <td>33.95</td>\n",
              "      <td>Mar-1999</td>\n",
              "      <td>13.0</td>\n",
              "      <td>0.0</td>\n",
              "      <td>24584.0</td>\n",
              "      <td>69.8</td>\n",
              "      <td>43.0</td>\n",
              "      <td>f</td>\n",
              "      <td>INDIVIDUAL</td>\n",
              "      <td>1.0</td>\n",
              "      <td>0.0</td>\n",
              "      <td>679 Luna Roads\\r\\nGreggshire, VA 11650</td>\n",
              "      <td>0</td>\n",
              "    </tr>\n",
              "    <tr>\n",
              "      <th>...</th>\n",
              "      <td>...</td>\n",
              "      <td>...</td>\n",
              "      <td>...</td>\n",
              "      <td>...</td>\n",
              "      <td>...</td>\n",
              "      <td>...</td>\n",
              "      <td>...</td>\n",
              "      <td>...</td>\n",
              "      <td>...</td>\n",
              "      <td>...</td>\n",
              "      <td>...</td>\n",
              "      <td>...</td>\n",
              "      <td>...</td>\n",
              "      <td>...</td>\n",
              "      <td>...</td>\n",
              "      <td>...</td>\n",
              "      <td>...</td>\n",
              "      <td>...</td>\n",
              "      <td>...</td>\n",
              "      <td>...</td>\n",
              "      <td>...</td>\n",
              "      <td>...</td>\n",
              "      <td>...</td>\n",
              "      <td>...</td>\n",
              "      <td>...</td>\n",
              "      <td>...</td>\n",
              "    </tr>\n",
              "    <tr>\n",
              "      <th>396025</th>\n",
              "      <td>10000.0</td>\n",
              "      <td>60 months</td>\n",
              "      <td>10.99</td>\n",
              "      <td>217.38</td>\n",
              "      <td>B</td>\n",
              "      <td>B4</td>\n",
              "      <td>RENT</td>\n",
              "      <td>40000.0</td>\n",
              "      <td>Source Verified</td>\n",
              "      <td>Oct-2015</td>\n",
              "      <td>Fully Paid</td>\n",
              "      <td>debt_consolidation</td>\n",
              "      <td>Debt consolidation</td>\n",
              "      <td>15.63</td>\n",
              "      <td>Nov-2004</td>\n",
              "      <td>6.0</td>\n",
              "      <td>0.0</td>\n",
              "      <td>1990.0</td>\n",
              "      <td>34.3</td>\n",
              "      <td>23.0</td>\n",
              "      <td>w</td>\n",
              "      <td>INDIVIDUAL</td>\n",
              "      <td>0.0</td>\n",
              "      <td>0.0</td>\n",
              "      <td>12951 Williams Crossing\\r\\nJohnnyville, DC 30723</td>\n",
              "      <td>1</td>\n",
              "    </tr>\n",
              "    <tr>\n",
              "      <th>396026</th>\n",
              "      <td>21000.0</td>\n",
              "      <td>36 months</td>\n",
              "      <td>12.29</td>\n",
              "      <td>700.42</td>\n",
              "      <td>C</td>\n",
              "      <td>C1</td>\n",
              "      <td>MORTGAGE</td>\n",
              "      <td>110000.0</td>\n",
              "      <td>Source Verified</td>\n",
              "      <td>Feb-2015</td>\n",
              "      <td>Fully Paid</td>\n",
              "      <td>debt_consolidation</td>\n",
              "      <td>Debt consolidation</td>\n",
              "      <td>21.45</td>\n",
              "      <td>Feb-2006</td>\n",
              "      <td>6.0</td>\n",
              "      <td>0.0</td>\n",
              "      <td>43263.0</td>\n",
              "      <td>95.7</td>\n",
              "      <td>8.0</td>\n",
              "      <td>f</td>\n",
              "      <td>INDIVIDUAL</td>\n",
              "      <td>1.0</td>\n",
              "      <td>0.0</td>\n",
              "      <td>0114 Fowler Field Suite 028\\r\\nRachelborough, ...</td>\n",
              "      <td>1</td>\n",
              "    </tr>\n",
              "    <tr>\n",
              "      <th>396027</th>\n",
              "      <td>5000.0</td>\n",
              "      <td>36 months</td>\n",
              "      <td>9.99</td>\n",
              "      <td>161.32</td>\n",
              "      <td>B</td>\n",
              "      <td>B1</td>\n",
              "      <td>RENT</td>\n",
              "      <td>56500.0</td>\n",
              "      <td>Verified</td>\n",
              "      <td>Oct-2013</td>\n",
              "      <td>Fully Paid</td>\n",
              "      <td>debt_consolidation</td>\n",
              "      <td>pay off credit cards</td>\n",
              "      <td>17.56</td>\n",
              "      <td>Mar-1997</td>\n",
              "      <td>15.0</td>\n",
              "      <td>0.0</td>\n",
              "      <td>32704.0</td>\n",
              "      <td>66.9</td>\n",
              "      <td>23.0</td>\n",
              "      <td>f</td>\n",
              "      <td>INDIVIDUAL</td>\n",
              "      <td>0.0</td>\n",
              "      <td>0.0</td>\n",
              "      <td>953 Matthew Points Suite 414\\r\\nReedfort, NY 7...</td>\n",
              "      <td>1</td>\n",
              "    </tr>\n",
              "    <tr>\n",
              "      <th>396028</th>\n",
              "      <td>21000.0</td>\n",
              "      <td>60 months</td>\n",
              "      <td>15.31</td>\n",
              "      <td>503.02</td>\n",
              "      <td>C</td>\n",
              "      <td>C2</td>\n",
              "      <td>MORTGAGE</td>\n",
              "      <td>64000.0</td>\n",
              "      <td>Verified</td>\n",
              "      <td>Aug-2012</td>\n",
              "      <td>Fully Paid</td>\n",
              "      <td>debt_consolidation</td>\n",
              "      <td>Loanforpayoff</td>\n",
              "      <td>15.88</td>\n",
              "      <td>Nov-1990</td>\n",
              "      <td>9.0</td>\n",
              "      <td>0.0</td>\n",
              "      <td>15704.0</td>\n",
              "      <td>53.8</td>\n",
              "      <td>20.0</td>\n",
              "      <td>f</td>\n",
              "      <td>INDIVIDUAL</td>\n",
              "      <td>5.0</td>\n",
              "      <td>0.0</td>\n",
              "      <td>7843 Blake Freeway Apt. 229\\r\\nNew Michael, FL...</td>\n",
              "      <td>1</td>\n",
              "    </tr>\n",
              "    <tr>\n",
              "      <th>396029</th>\n",
              "      <td>2000.0</td>\n",
              "      <td>36 months</td>\n",
              "      <td>13.61</td>\n",
              "      <td>67.98</td>\n",
              "      <td>C</td>\n",
              "      <td>C2</td>\n",
              "      <td>RENT</td>\n",
              "      <td>42996.0</td>\n",
              "      <td>Verified</td>\n",
              "      <td>Jun-2010</td>\n",
              "      <td>Fully Paid</td>\n",
              "      <td>debt_consolidation</td>\n",
              "      <td>Toxic Debt Payoff</td>\n",
              "      <td>8.32</td>\n",
              "      <td>Sep-1998</td>\n",
              "      <td>3.0</td>\n",
              "      <td>0.0</td>\n",
              "      <td>4292.0</td>\n",
              "      <td>91.3</td>\n",
              "      <td>19.0</td>\n",
              "      <td>f</td>\n",
              "      <td>INDIVIDUAL</td>\n",
              "      <td>NaN</td>\n",
              "      <td>0.0</td>\n",
              "      <td>787 Michelle Causeway\\r\\nBriannaton, AR 48052</td>\n",
              "      <td>1</td>\n",
              "    </tr>\n",
              "  </tbody>\n",
              "</table>\n",
              "<p>396030 rows × 26 columns</p>\n",
              "</div>"
            ],
            "text/plain": [
              "        loan_amnt  ... loan_repaid\n",
              "0         10000.0  ...           1\n",
              "1          8000.0  ...           1\n",
              "2         15600.0  ...           1\n",
              "3          7200.0  ...           1\n",
              "4         24375.0  ...           0\n",
              "...           ...  ...         ...\n",
              "396025    10000.0  ...           1\n",
              "396026    21000.0  ...           1\n",
              "396027     5000.0  ...           1\n",
              "396028    21000.0  ...           1\n",
              "396029     2000.0  ...           1\n",
              "\n",
              "[396030 rows x 26 columns]"
            ]
          },
          "metadata": {
            "tags": []
          },
          "execution_count": 49
        }
      ]
    },
    {
      "cell_type": "markdown",
      "metadata": {
        "id": "6kJmlKt8ih41"
      },
      "source": [
        "**TASK: Revisit the DataFrame to see what feature columns still have missing data.**"
      ]
    },
    {
      "cell_type": "code",
      "metadata": {
        "id": "3BUIPpU4ih41",
        "colab": {
          "base_uri": "https://localhost:8080/"
        },
        "outputId": "c188d420-354b-4791-ec68-bad34f43acef"
      },
      "source": [
        "df.isnull().sum()"
      ],
      "execution_count": 50,
      "outputs": [
        {
          "output_type": "execute_result",
          "data": {
            "text/plain": [
              "loan_amnt                   0\n",
              "term                        0\n",
              "int_rate                    0\n",
              "installment                 0\n",
              "grade                       0\n",
              "sub_grade                   0\n",
              "home_ownership              0\n",
              "annual_inc                  0\n",
              "verification_status         0\n",
              "issue_d                     0\n",
              "loan_status                 0\n",
              "purpose                     0\n",
              "title                    1755\n",
              "dti                         0\n",
              "earliest_cr_line            0\n",
              "open_acc                    0\n",
              "pub_rec                     0\n",
              "revol_bal                   0\n",
              "revol_util                276\n",
              "total_acc                   0\n",
              "initial_list_status         0\n",
              "application_type            0\n",
              "mort_acc                37795\n",
              "pub_rec_bankruptcies      535\n",
              "address                     0\n",
              "loan_repaid                 0\n",
              "dtype: int64"
            ]
          },
          "metadata": {
            "tags": []
          },
          "execution_count": 50
        }
      ]
    },
    {
      "cell_type": "markdown",
      "metadata": {
        "id": "qSaxgoQmih41"
      },
      "source": [
        "**TASK: Review the title column vs the purpose column. Is this repeated information?**"
      ]
    },
    {
      "cell_type": "code",
      "metadata": {
        "id": "8HrROMPEih41",
        "colab": {
          "base_uri": "https://localhost:8080/"
        },
        "outputId": "7f181936-9af4-4d43-eef2-edbf15caa278"
      },
      "source": [
        "# CODE HERE\n",
        "df[\"title\"].head(10)"
      ],
      "execution_count": 51,
      "outputs": [
        {
          "output_type": "execute_result",
          "data": {
            "text/plain": [
              "0                   Vacation\n",
              "1         Debt consolidation\n",
              "2    Credit card refinancing\n",
              "3    Credit card refinancing\n",
              "4      Credit Card Refinance\n",
              "5         Debt consolidation\n",
              "6           Home improvement\n",
              "7       No More Credit Cards\n",
              "8         Debt consolidation\n",
              "9         Debt Consolidation\n",
              "Name: title, dtype: object"
            ]
          },
          "metadata": {
            "tags": []
          },
          "execution_count": 51
        }
      ]
    },
    {
      "cell_type": "code",
      "metadata": {
        "id": "-THWluJiih42",
        "colab": {
          "base_uri": "https://localhost:8080/"
        },
        "outputId": "a503570e-ef3a-45c6-f3d8-b1665f9b3579"
      },
      "source": [
        "df['title'].head(10)"
      ],
      "execution_count": 52,
      "outputs": [
        {
          "output_type": "execute_result",
          "data": {
            "text/plain": [
              "0                   Vacation\n",
              "1         Debt consolidation\n",
              "2    Credit card refinancing\n",
              "3    Credit card refinancing\n",
              "4      Credit Card Refinance\n",
              "5         Debt consolidation\n",
              "6           Home improvement\n",
              "7       No More Credit Cards\n",
              "8         Debt consolidation\n",
              "9         Debt Consolidation\n",
              "Name: title, dtype: object"
            ]
          },
          "metadata": {
            "tags": []
          },
          "execution_count": 52
        }
      ]
    },
    {
      "cell_type": "markdown",
      "metadata": {
        "id": "MCl7SRKHih42"
      },
      "source": [
        "**TASK: The title column is simply a string subcategory/description of the purpose column. Go ahead and drop the title column.**"
      ]
    },
    {
      "cell_type": "code",
      "metadata": {
        "id": "pxmHii8Vih42"
      },
      "source": [
        "# CODE HERE\n",
        "df = df.drop(\"title\", axis=1)"
      ],
      "execution_count": 53,
      "outputs": []
    },
    {
      "cell_type": "markdown",
      "metadata": {
        "id": "hO5obMn9ih42"
      },
      "source": [
        "---\n",
        "**NOTE: This is one of the hardest parts of the project! Refer to the solutions video if you need guidance, feel free to fill or drop the missing values of the mort_acc however you see fit! Here we're going with a very specific approach.**\n",
        "\n",
        "\n",
        "---\n",
        "**TASK: Find out what the mort_acc feature represents**"
      ]
    },
    {
      "cell_type": "code",
      "metadata": {
        "id": "wx7YvjVRih42",
        "colab": {
          "base_uri": "https://localhost:8080/"
        },
        "outputId": "3cb86147-6daf-456c-8eb7-5a4e4b89ba4a"
      },
      "source": [
        "# CODE HERE\n",
        "feat_info(\"mort_acc\")"
      ],
      "execution_count": 54,
      "outputs": [
        {
          "output_type": "stream",
          "text": [
            "Number of mortgage accounts.\n"
          ],
          "name": "stdout"
        }
      ]
    },
    {
      "cell_type": "markdown",
      "metadata": {
        "id": "L8K_WCwIih44"
      },
      "source": [
        "**TASK: Create a value_counts of the mort_acc column.**"
      ]
    },
    {
      "cell_type": "code",
      "metadata": {
        "id": "ixYBqLJGih44",
        "colab": {
          "base_uri": "https://localhost:8080/"
        },
        "outputId": "7ce4b3b6-ad37-43a3-e328-921ad9557de2"
      },
      "source": [
        "# CODE HERE\n",
        "df[\"mort_acc\"].value_counts()"
      ],
      "execution_count": 55,
      "outputs": [
        {
          "output_type": "execute_result",
          "data": {
            "text/plain": [
              "0.0     139777\n",
              "1.0      60416\n",
              "2.0      49948\n",
              "3.0      38049\n",
              "4.0      27887\n",
              "5.0      18194\n",
              "6.0      11069\n",
              "7.0       6052\n",
              "8.0       3121\n",
              "9.0       1656\n",
              "10.0       865\n",
              "11.0       479\n",
              "12.0       264\n",
              "13.0       146\n",
              "14.0       107\n",
              "15.0        61\n",
              "16.0        37\n",
              "17.0        22\n",
              "18.0        18\n",
              "19.0        15\n",
              "20.0        13\n",
              "24.0        10\n",
              "22.0         7\n",
              "21.0         4\n",
              "25.0         4\n",
              "27.0         3\n",
              "23.0         2\n",
              "32.0         2\n",
              "26.0         2\n",
              "31.0         2\n",
              "30.0         1\n",
              "28.0         1\n",
              "34.0         1\n",
              "Name: mort_acc, dtype: int64"
            ]
          },
          "metadata": {
            "tags": []
          },
          "execution_count": 55
        }
      ]
    },
    {
      "cell_type": "markdown",
      "metadata": {
        "id": "KKnJqlrbih44"
      },
      "source": [
        "**TASK: There are many ways we could deal with this missing data. We could attempt to build a simple model to fill it in, such as a linear model, we could just fill it in based on the mean of the other columns, or you could even bin the columns into categories and then set NaN as its own category. There is no 100% correct approach! Let's review the other columsn to see which most highly correlates to mort_acc**"
      ]
    },
    {
      "cell_type": "code",
      "metadata": {
        "id": "hZ1sGjYjih45",
        "colab": {
          "base_uri": "https://localhost:8080/"
        },
        "outputId": "96a9792b-64c4-47a1-803c-eabddf208243"
      },
      "source": [
        "df.corr()[\"mort_acc\"].sort_values()"
      ],
      "execution_count": 56,
      "outputs": [
        {
          "output_type": "execute_result",
          "data": {
            "text/plain": [
              "int_rate               -0.082583\n",
              "dti                    -0.025439\n",
              "revol_util              0.007514\n",
              "pub_rec                 0.011552\n",
              "pub_rec_bankruptcies    0.027239\n",
              "loan_repaid             0.073111\n",
              "open_acc                0.109205\n",
              "installment             0.193694\n",
              "revol_bal               0.194925\n",
              "loan_amnt               0.222315\n",
              "annual_inc              0.236320\n",
              "total_acc               0.381072\n",
              "mort_acc                1.000000\n",
              "Name: mort_acc, dtype: float64"
            ]
          },
          "metadata": {
            "tags": []
          },
          "execution_count": 56
        }
      ]
    },
    {
      "cell_type": "markdown",
      "metadata": {
        "id": "6M_-D5qKih45"
      },
      "source": [
        "**TASK: Looks like the total_acc feature correlates with the mort_acc , this makes sense! Let's try this fillna() approach. We will group the dataframe by the total_acc and calculate the mean value for the mort_acc per total_acc entry. To get the result below:**"
      ]
    },
    {
      "cell_type": "code",
      "metadata": {
        "id": "gbnN2xMyih45"
      },
      "source": [
        "total_acc_avg = df.groupby(\"total_acc\").mean()[\"mort_acc\"]"
      ],
      "execution_count": 57,
      "outputs": []
    },
    {
      "cell_type": "markdown",
      "metadata": {
        "id": "FdX0Rfb8ih46"
      },
      "source": [
        "**CHALLENGE TASK: Let's fill in the missing mort_acc values based on their total_acc value. If the mort_acc is missing, then we will fill in that missing value with the mean value corresponding to its total_acc value from the Series we created above. This involves using an .apply() method with two columns. Check out the link below for more info, or review the solutions video/notebook.**\n",
        "\n",
        "[Helpful Link](https://stackoverflow.com/questions/13331698/how-to-apply-a-function-to-two-columns-of-pandas-dataframe) "
      ]
    },
    {
      "cell_type": "code",
      "metadata": {
        "id": "DXel2SFKih46"
      },
      "source": [
        "# CODE HERE\n",
        "def fill_mort_acc(total_acc, mort_acc):\n",
        "  if np.isnan(mort_acc):\n",
        "    return total_acc_avg[total_acc]\n",
        "  else:\n",
        "    return mort_acc"
      ],
      "execution_count": 58,
      "outputs": []
    },
    {
      "cell_type": "code",
      "metadata": {
        "id": "JrhpU0sHih46"
      },
      "source": [
        "df[\"mort_acc\"] = df.apply(lambda x: fill_mort_acc(x[\"total_acc\"], x[\"mort_acc\"]), axis=1)\n"
      ],
      "execution_count": 59,
      "outputs": []
    },
    {
      "cell_type": "code",
      "metadata": {
        "id": "M81t9F7Kih47",
        "colab": {
          "base_uri": "https://localhost:8080/"
        },
        "outputId": "d8a36912-5e90-486d-8e7e-cde5238252ee"
      },
      "source": [
        "df.isnull().sum()"
      ],
      "execution_count": 60,
      "outputs": [
        {
          "output_type": "execute_result",
          "data": {
            "text/plain": [
              "loan_amnt                 0\n",
              "term                      0\n",
              "int_rate                  0\n",
              "installment               0\n",
              "grade                     0\n",
              "sub_grade                 0\n",
              "home_ownership            0\n",
              "annual_inc                0\n",
              "verification_status       0\n",
              "issue_d                   0\n",
              "loan_status               0\n",
              "purpose                   0\n",
              "dti                       0\n",
              "earliest_cr_line          0\n",
              "open_acc                  0\n",
              "pub_rec                   0\n",
              "revol_bal                 0\n",
              "revol_util              276\n",
              "total_acc                 0\n",
              "initial_list_status       0\n",
              "application_type          0\n",
              "mort_acc                  0\n",
              "pub_rec_bankruptcies    535\n",
              "address                   0\n",
              "loan_repaid               0\n",
              "dtype: int64"
            ]
          },
          "metadata": {
            "tags": []
          },
          "execution_count": 60
        }
      ]
    },
    {
      "cell_type": "markdown",
      "metadata": {
        "id": "Tjkgshf2ih47"
      },
      "source": [
        "**TASK: revol_util and the pub_rec_bankruptcies have missing data points, but they account for less than 0.5% of the total data. Go ahead and remove the rows that are missing those values in those columns with dropna().**"
      ]
    },
    {
      "cell_type": "code",
      "metadata": {
        "id": "bja-Fkyjih47"
      },
      "source": [
        "# CODE HERE\n",
        "df = df.dropna()"
      ],
      "execution_count": 61,
      "outputs": []
    },
    {
      "cell_type": "code",
      "metadata": {
        "id": "6f_6K27lih47",
        "colab": {
          "base_uri": "https://localhost:8080/"
        },
        "outputId": "51ad74f1-d041-446b-b3c5-9bee173733e8"
      },
      "source": [
        "df.isnull().sum()"
      ],
      "execution_count": 62,
      "outputs": [
        {
          "output_type": "execute_result",
          "data": {
            "text/plain": [
              "loan_amnt               0\n",
              "term                    0\n",
              "int_rate                0\n",
              "installment             0\n",
              "grade                   0\n",
              "sub_grade               0\n",
              "home_ownership          0\n",
              "annual_inc              0\n",
              "verification_status     0\n",
              "issue_d                 0\n",
              "loan_status             0\n",
              "purpose                 0\n",
              "dti                     0\n",
              "earliest_cr_line        0\n",
              "open_acc                0\n",
              "pub_rec                 0\n",
              "revol_bal               0\n",
              "revol_util              0\n",
              "total_acc               0\n",
              "initial_list_status     0\n",
              "application_type        0\n",
              "mort_acc                0\n",
              "pub_rec_bankruptcies    0\n",
              "address                 0\n",
              "loan_repaid             0\n",
              "dtype: int64"
            ]
          },
          "metadata": {
            "tags": []
          },
          "execution_count": 62
        }
      ]
    },
    {
      "cell_type": "markdown",
      "metadata": {
        "id": "V03rIguVih47"
      },
      "source": [
        "## Categorical Variables and Dummy Variables\n",
        "\n",
        "**We're done working with the missing data! Now we just need to deal with the string values due to the categorical columns.**\n",
        "\n",
        "**TASK: List all the columns that are currently non-numeric. [Helpful Link](https://stackoverflow.com/questions/22470690/get-list-of-pandas-dataframe-columns-based-on-data-type)**\n",
        "\n",
        "[Another very useful method call](https://pandas.pydata.org/pandas-docs/stable/reference/api/pandas.DataFrame.select_dtypes.html)"
      ]
    },
    {
      "cell_type": "code",
      "metadata": {
        "id": "e0vCETR1ih47",
        "colab": {
          "base_uri": "https://localhost:8080/"
        },
        "outputId": "89b4f60a-b835-4514-a2d6-15d4a5a4a121"
      },
      "source": [
        "# CODE HERE\n",
        "df.select_dtypes(include=\"object\").columns"
      ],
      "execution_count": 63,
      "outputs": [
        {
          "output_type": "execute_result",
          "data": {
            "text/plain": [
              "Index(['term', 'grade', 'sub_grade', 'home_ownership', 'verification_status',\n",
              "       'issue_d', 'loan_status', 'purpose', 'earliest_cr_line',\n",
              "       'initial_list_status', 'application_type', 'address'],\n",
              "      dtype='object')"
            ]
          },
          "metadata": {
            "tags": []
          },
          "execution_count": 63
        }
      ]
    },
    {
      "cell_type": "markdown",
      "metadata": {
        "id": "407tPjHAih47"
      },
      "source": [
        "---\n",
        "**Let's now go through all the string features to see what we should do with them.**\n",
        "\n",
        "---\n",
        "\n",
        "\n",
        "### term feature\n",
        "\n",
        "**TASK: Convert the term feature into either a 36 or 60 integer numeric data type using .apply() or .map().**"
      ]
    },
    {
      "cell_type": "code",
      "metadata": {
        "colab": {
          "base_uri": "https://localhost:8080/"
        },
        "id": "7N9ACKwtdX42",
        "outputId": "7bd2df69-ee31-4c9e-c44c-78616af5235c"
      },
      "source": [
        "df[\"term\"].unique()"
      ],
      "execution_count": 64,
      "outputs": [
        {
          "output_type": "execute_result",
          "data": {
            "text/plain": [
              "array([' 36 months', ' 60 months'], dtype=object)"
            ]
          },
          "metadata": {
            "tags": []
          },
          "execution_count": 64
        }
      ]
    },
    {
      "cell_type": "code",
      "metadata": {
        "id": "b8shftwVih48"
      },
      "source": [
        "# CODE HERE\n",
        "def conv_to_int(data):\n",
        "  if data == \" 36 months\":\n",
        "    return 36\n",
        "  elif data == \" 60 months\":\n",
        "    return 60\n",
        "df[\"term\"] = df[\"term\"].apply(conv_to_int)\n"
      ],
      "execution_count": 65,
      "outputs": []
    },
    {
      "cell_type": "code",
      "metadata": {
        "id": "vS0cdsAxih48"
      },
      "source": [
        ""
      ],
      "execution_count": 65,
      "outputs": []
    },
    {
      "cell_type": "markdown",
      "metadata": {
        "id": "KmSsPGwEih48"
      },
      "source": [
        "### grade feature\n",
        "\n",
        "**TASK: We already know grade is part of sub_grade, so just drop the grade feature.**"
      ]
    },
    {
      "cell_type": "code",
      "metadata": {
        "id": "2y3Mk-Fzih48"
      },
      "source": [
        "# CODE HERE\n",
        "df = df.drop(\"grade\", axis=1)"
      ],
      "execution_count": 66,
      "outputs": []
    },
    {
      "cell_type": "markdown",
      "metadata": {
        "id": "oUy9Onaaih48"
      },
      "source": [
        "**TASK: Convert the subgrade into dummy variables. Then concatenate these new columns to the original dataframe. Remember to drop the original subgrade column and to add drop_first=True to your get_dummies call.**"
      ]
    },
    {
      "cell_type": "code",
      "metadata": {
        "id": "cXXYhgTpih48"
      },
      "source": [
        "# CODE HERE\n",
        "subgrade_dummies = pd.get_dummies(df[\"sub_grade\"], drop_first=True)"
      ],
      "execution_count": 67,
      "outputs": []
    },
    {
      "cell_type": "code",
      "metadata": {
        "id": "HljdooXMih48"
      },
      "source": [
        "df = pd.concat([df.drop(\"sub_grade\", axis=1), subgrade_dummies], axis=1)"
      ],
      "execution_count": 68,
      "outputs": []
    },
    {
      "cell_type": "code",
      "metadata": {
        "id": "3DnBMaWjih49",
        "colab": {
          "base_uri": "https://localhost:8080/"
        },
        "outputId": "7412214c-4737-49f2-b147-d6d911f23bcc"
      },
      "source": [
        "df.columns"
      ],
      "execution_count": 69,
      "outputs": [
        {
          "output_type": "execute_result",
          "data": {
            "text/plain": [
              "Index(['loan_amnt', 'term', 'int_rate', 'installment', 'home_ownership',\n",
              "       'annual_inc', 'verification_status', 'issue_d', 'loan_status',\n",
              "       'purpose', 'dti', 'earliest_cr_line', 'open_acc', 'pub_rec',\n",
              "       'revol_bal', 'revol_util', 'total_acc', 'initial_list_status',\n",
              "       'application_type', 'mort_acc', 'pub_rec_bankruptcies', 'address',\n",
              "       'loan_repaid', 'A2', 'A3', 'A4', 'A5', 'B1', 'B2', 'B3', 'B4', 'B5',\n",
              "       'C1', 'C2', 'C3', 'C4', 'C5', 'D1', 'D2', 'D3', 'D4', 'D5', 'E1', 'E2',\n",
              "       'E3', 'E4', 'E5', 'F1', 'F2', 'F3', 'F4', 'F5', 'G1', 'G2', 'G3', 'G4',\n",
              "       'G5'],\n",
              "      dtype='object')"
            ]
          },
          "metadata": {
            "tags": []
          },
          "execution_count": 69
        }
      ]
    },
    {
      "cell_type": "code",
      "metadata": {
        "id": "OlVf8hETih49",
        "colab": {
          "base_uri": "https://localhost:8080/"
        },
        "outputId": "5ff9f55a-9963-4658-c6d4-04a80b45f450"
      },
      "source": [
        "df.select_dtypes(include=\"object\").columns"
      ],
      "execution_count": 70,
      "outputs": [
        {
          "output_type": "execute_result",
          "data": {
            "text/plain": [
              "Index(['home_ownership', 'verification_status', 'issue_d', 'loan_status',\n",
              "       'purpose', 'earliest_cr_line', 'initial_list_status',\n",
              "       'application_type', 'address'],\n",
              "      dtype='object')"
            ]
          },
          "metadata": {
            "tags": []
          },
          "execution_count": 70
        }
      ]
    },
    {
      "cell_type": "markdown",
      "metadata": {
        "id": "vwunRbdDih49"
      },
      "source": [
        "### verification_status, application_type,initial_list_status,purpose \n",
        "**TASK: Convert these columns: ['verification_status', 'application_type','initial_list_status','purpose'] into dummy variables and concatenate them with the original dataframe. Remember to set drop_first=True and to drop the original columns.**"
      ]
    },
    {
      "cell_type": "code",
      "metadata": {
        "id": "0iBbMyE1ih49"
      },
      "source": [
        "# CODE HERE\n",
        "dummies = pd.get_dummies(df[[\"verification_status\", \"application_type\", \"initial_list_status\", \"purpose\"]], drop_first=True)"
      ],
      "execution_count": 71,
      "outputs": []
    },
    {
      "cell_type": "code",
      "metadata": {
        "id": "pJ7ePBG0ih49"
      },
      "source": [
        "df = df.drop([\"verification_status\", \"application_type\", \"initial_list_status\", \"purpose\"], axis=1)"
      ],
      "execution_count": 72,
      "outputs": []
    },
    {
      "cell_type": "code",
      "metadata": {
        "id": "NZ5XEKOBih49"
      },
      "source": [
        "df = pd.concat([df, dummies], axis=1)"
      ],
      "execution_count": 73,
      "outputs": []
    },
    {
      "cell_type": "markdown",
      "metadata": {
        "id": "UUNLNbSwih49"
      },
      "source": [
        "### home_ownership\n",
        "**TASK:Review the value_counts for the home_ownership column.**"
      ]
    },
    {
      "cell_type": "code",
      "metadata": {
        "id": "TAyYblRWih49",
        "colab": {
          "base_uri": "https://localhost:8080/"
        },
        "outputId": "d91a7735-4968-4f7c-a57e-b9235f5104ca"
      },
      "source": [
        "#CODE HERE\n",
        "df[\"home_ownership\"].value_counts()"
      ],
      "execution_count": 74,
      "outputs": [
        {
          "output_type": "execute_result",
          "data": {
            "text/plain": [
              "MORTGAGE    198022\n",
              "RENT        159395\n",
              "OWN          37660\n",
              "OTHER          110\n",
              "NONE            29\n",
              "ANY              3\n",
              "Name: home_ownership, dtype: int64"
            ]
          },
          "metadata": {
            "tags": []
          },
          "execution_count": 74
        }
      ]
    },
    {
      "cell_type": "markdown",
      "metadata": {
        "id": "jXL6rQrqih4-"
      },
      "source": [
        "**TASK: Convert these to dummy variables, but [replace](https://pandas.pydata.org/pandas-docs/stable/reference/api/pandas.DataFrame.replace.html) NONE and ANY with OTHER, so that we end up with just 4 categories, MORTGAGE, RENT, OWN, OTHER. Then concatenate them with the original dataframe. Remember to set drop_first=True and to drop the original columns.**"
      ]
    },
    {
      "cell_type": "code",
      "metadata": {
        "id": "xFHSjfEEih4-"
      },
      "source": [
        "#CODE HERE\n",
        "df[\"home_ownership\"] = df[\"home_ownership\"].replace([\"NONE\", \"ANY\"], \"OTHER\")"
      ],
      "execution_count": 75,
      "outputs": []
    },
    {
      "cell_type": "code",
      "metadata": {
        "id": "QidoNpOOih4-"
      },
      "source": [
        "home_dummies = pd.get_dummies(df[\"home_ownership\"], drop_first=True)"
      ],
      "execution_count": 76,
      "outputs": []
    },
    {
      "cell_type": "code",
      "metadata": {
        "id": "HWhGxC6QhhEm"
      },
      "source": [
        "df = pd.concat([df.drop(\"home_ownership\", axis=1), home_dummies], axis=1)"
      ],
      "execution_count": 77,
      "outputs": []
    },
    {
      "cell_type": "markdown",
      "metadata": {
        "id": "mF5viaGFih4-"
      },
      "source": [
        "### address\n",
        "**TASK: Let's feature engineer a zip code column from the address in the data set. Create a column called 'zip_code' that extracts the zip code from the address column.**"
      ]
    },
    {
      "cell_type": "code",
      "metadata": {
        "id": "zU8AXqVRih4_"
      },
      "source": [
        "#CODE HERE\n",
        "df[\"zip_code\"] = df[\"address\"].apply(lambda addr: addr[-5:])"
      ],
      "execution_count": 78,
      "outputs": []
    },
    {
      "cell_type": "markdown",
      "metadata": {
        "id": "8l-drD1Vih4_"
      },
      "source": [
        "**TASK: Now make this zip_code column into dummy variables using pandas. Concatenate the result and drop the original zip_code column along with dropping the address column.**"
      ]
    },
    {
      "cell_type": "code",
      "metadata": {
        "id": "vcxQuGJbih4_"
      },
      "source": [
        "zip_dummies = pd.get_dummies(df[\"zip_code\"], drop_first=True)\n",
        "df = pd.concat([df.drop([\"zip_code\", \"address\"], axis=1), zip_dummies], axis=1)"
      ],
      "execution_count": 79,
      "outputs": []
    },
    {
      "cell_type": "markdown",
      "metadata": {
        "id": "7jRtoKzzih4_"
      },
      "source": [
        "### issue_d \n",
        "\n",
        "**TASK: This would be data leakage, we wouldn't know beforehand whether or not a loan would be issued when using our model, so in theory we wouldn't have an issue_date, drop this feature.**"
      ]
    },
    {
      "cell_type": "code",
      "metadata": {
        "id": "hn65WZHbih4_"
      },
      "source": [
        "#CODE HERE\n",
        "df = df.drop(\"issue_d\", axis=1)"
      ],
      "execution_count": 80,
      "outputs": []
    },
    {
      "cell_type": "markdown",
      "metadata": {
        "id": "FKHc7PhCih5A"
      },
      "source": [
        "### earliest_cr_line\n",
        "**TASK: This appears to be a historical time stamp feature. Extract the year from this feature using a .apply function, then convert it to a numeric feature. Set this new data to a feature column called 'earliest_cr_year'.Then drop the earliest_cr_line feature.**"
      ]
    },
    {
      "cell_type": "code",
      "metadata": {
        "id": "EW_q111Qih5A"
      },
      "source": [
        "#CODE HERE\n",
        "df[\"earliest_cr_year\"] = df[\"earliest_cr_line\"].apply(lambda date: int(date[-4:]))\n",
        "df = df.drop(\"earliest_cr_line\", axis=1)"
      ],
      "execution_count": 81,
      "outputs": []
    },
    {
      "cell_type": "code",
      "metadata": {
        "id": "YO3Q_Livih5A",
        "colab": {
          "base_uri": "https://localhost:8080/"
        },
        "outputId": "8c8e9b88-157e-4109-a73c-26061ab1c769"
      },
      "source": [
        "df.select_dtypes(\"object\").columns"
      ],
      "execution_count": 82,
      "outputs": [
        {
          "output_type": "execute_result",
          "data": {
            "text/plain": [
              "Index(['loan_status'], dtype='object')"
            ]
          },
          "metadata": {
            "tags": []
          },
          "execution_count": 82
        }
      ]
    },
    {
      "cell_type": "markdown",
      "metadata": {
        "id": "9uui-_olih5A"
      },
      "source": [
        "## Train Test Split"
      ]
    },
    {
      "cell_type": "markdown",
      "metadata": {
        "id": "eMjXfaVqih5A"
      },
      "source": [
        "**TASK: Import train_test_split from sklearn.**"
      ]
    },
    {
      "cell_type": "code",
      "metadata": {
        "id": "Ick0ABY-ih5A"
      },
      "source": [
        "from sklearn.model_selection import train_test_split"
      ],
      "execution_count": 83,
      "outputs": []
    },
    {
      "cell_type": "markdown",
      "metadata": {
        "id": "YpkhIfJzih5A"
      },
      "source": [
        "**TASK: drop the load_status column we created earlier, since its a duplicate of the loan_repaid column. We'll use the loan_repaid column since its already in 0s and 1s.**"
      ]
    },
    {
      "cell_type": "code",
      "metadata": {
        "id": "yXeLbD0Oih5A"
      },
      "source": [
        "# CODE HERE\n",
        "df = df.drop(\"loan_status\", axis=1)"
      ],
      "execution_count": 84,
      "outputs": []
    },
    {
      "cell_type": "markdown",
      "metadata": {
        "id": "hNlDNfh9ih5A"
      },
      "source": [
        "**TASK: Set X and y variables to the .values of the features and label.**"
      ]
    },
    {
      "cell_type": "code",
      "metadata": {
        "id": "BpUlkZJCih5A"
      },
      "source": [
        "#CODE HERE\n",
        "X = df.drop(\"loan_repaid\", axis=1).values\n",
        "y = df[\"loan_repaid\"].values"
      ],
      "execution_count": 85,
      "outputs": []
    },
    {
      "cell_type": "markdown",
      "metadata": {
        "id": "3Ak0IYgeih5B"
      },
      "source": [
        "----\n",
        "----\n",
        "\n",
        "# OPTIONAL\n",
        "\n",
        "## Grabbing a Sample for Training Time\n",
        "\n",
        "### OPTIONAL: Use .sample() to grab a sample of the 490k+ entries to save time on training. Highly recommended for lower RAM computers or if you are not using GPU.\n",
        "\n",
        "----\n",
        "----"
      ]
    },
    {
      "cell_type": "code",
      "metadata": {
        "id": "pWTirUKlih5B",
        "colab": {
          "base_uri": "https://localhost:8080/"
        },
        "outputId": "b71cdf11-fd1c-4c88-99f8-084800c229bf"
      },
      "source": [
        "df = df.sample(frac=0.5,random_state=101)\n",
        "print(len(df))"
      ],
      "execution_count": 86,
      "outputs": [
        {
          "output_type": "stream",
          "text": [
            "197610\n"
          ],
          "name": "stdout"
        }
      ]
    },
    {
      "cell_type": "markdown",
      "metadata": {
        "id": "PWzrXCybih5B"
      },
      "source": [
        "**TASK: Perform a train/test split with test_size=0.2 and a random_state of 101.**"
      ]
    },
    {
      "cell_type": "code",
      "metadata": {
        "id": "xdz2rAAlih5B"
      },
      "source": [
        "#CODE HERE"
      ],
      "execution_count": 87,
      "outputs": []
    },
    {
      "cell_type": "code",
      "metadata": {
        "id": "_cqftvbmih5B"
      },
      "source": [
        "X_train, X_test, y_train, y_test = train_test_split(X, y, test_size=0.2, random_state=101)"
      ],
      "execution_count": 88,
      "outputs": []
    },
    {
      "cell_type": "markdown",
      "metadata": {
        "id": "MLQqZTp7ih5B"
      },
      "source": [
        "## Normalizing the Data\n",
        "\n",
        "**TASK: Use a MinMaxScaler to normalize the feature data X_train and X_test. Recall we don't want data leakge from the test set so we only fit on the X_train data.**"
      ]
    },
    {
      "cell_type": "code",
      "metadata": {
        "id": "rim0wRBPih5B"
      },
      "source": [
        "# CODE HERE\n",
        "from sklearn.preprocessing import MinMaxScaler"
      ],
      "execution_count": 89,
      "outputs": []
    },
    {
      "cell_type": "code",
      "metadata": {
        "id": "QK2C45AJih5B"
      },
      "source": [
        "scaler = MinMaxScaler()"
      ],
      "execution_count": 90,
      "outputs": []
    },
    {
      "cell_type": "code",
      "metadata": {
        "id": "7qZkTsOeih5B"
      },
      "source": [
        "X_train = scaler.fit_transform(X_train)\n",
        "X_test = scaler.transform(X_test)"
      ],
      "execution_count": 91,
      "outputs": []
    },
    {
      "cell_type": "markdown",
      "metadata": {
        "id": "h5EM4Vxtih5B"
      },
      "source": [
        "# Creating the Model\n",
        "\n",
        "**TASK: Run the cell below to import the necessary Keras functions.**"
      ]
    },
    {
      "cell_type": "code",
      "metadata": {
        "id": "OGW28vYtih5B"
      },
      "source": [
        "import tensorflow as tf\n",
        "from tensorflow.keras.models import Sequential\n",
        "from tensorflow.keras.layers import Dense,Dropout"
      ],
      "execution_count": 92,
      "outputs": []
    },
    {
      "cell_type": "markdown",
      "metadata": {
        "id": "dbM1bicqih5C"
      },
      "source": [
        "**TASK: Build a sequential model to will be trained on the data. You have unlimited options here, but here is what the solution uses: a model that goes 78 --> 39 --> 19--> 1 output neuron. OPTIONAL: Explore adding [Dropout layers](https://keras.io/layers/core/) [1](https://en.wikipedia.org/wiki/Dropout_(neural_networks)) [2](https://towardsdatascience.com/machine-learning-part-20-dropout-keras-layers-explained-8c9f6dc4c9ab)**"
      ]
    },
    {
      "cell_type": "code",
      "metadata": {
        "id": "G9puIMq2ih5C"
      },
      "source": [
        "# CODE HERE\n",
        "model = Sequential()\n",
        "\n",
        "# Choose whatever number of layers/neurons you want.\n",
        "\n",
        "model.add(Dense(78, activation=\"relu\"))\n",
        "model.add(Dropout(0.3))\n",
        "\n",
        "model.add(Dense(39, activation=\"relu\"))\n",
        "model.add(Dropout(0.3))\n",
        "\n",
        "model.add(Dense(19, activation=\"relu\"))\n",
        "model.add(Dropout(0.3))\n",
        "\n",
        "model.add(Dense(1, activation=\"sigmoid\"))\n",
        "\n",
        "# https://stats.stackexchange.com/questions/181/how-to-choose-the-number-of-hidden-layers-and-nodes-in-a-feedforward-neural-netw\n",
        "\n",
        "# Remember to compile()\n",
        "\n",
        "model.compile(optimizer=\"adam\", loss=\"BinaryCrossentropy\", metrics=[\"accuracy\"])\n"
      ],
      "execution_count": 93,
      "outputs": []
    },
    {
      "cell_type": "markdown",
      "metadata": {
        "id": "GlzEAMeYih5C"
      },
      "source": [
        "**TASK: Fit the model to the training data for at least 25 epochs. Also add in the validation data for later plotting. Optional: add in a batch_size of 256.**"
      ]
    },
    {
      "cell_type": "code",
      "metadata": {
        "id": "Oh4aSMWvih5C",
        "colab": {
          "base_uri": "https://localhost:8080/"
        },
        "outputId": "326c2b97-f56e-4ed8-de31-741ca4e214f1"
      },
      "source": [
        "# CODE HERE\n",
        "model.fit(x=X_train, y=y_train, batch_size=256, epochs=25, validation_data=(X_test, y_test))"
      ],
      "execution_count": 94,
      "outputs": [
        {
          "output_type": "stream",
          "text": [
            "Epoch 1/25\n",
            "1236/1236 [==============================] - 5s 3ms/step - loss: 0.3095 - accuracy: 0.8740 - val_loss: 0.2661 - val_accuracy: 0.8870\n",
            "Epoch 2/25\n",
            "1236/1236 [==============================] - 4s 3ms/step - loss: 0.2676 - accuracy: 0.8883 - val_loss: 0.2633 - val_accuracy: 0.8869\n",
            "Epoch 3/25\n",
            "1236/1236 [==============================] - 4s 3ms/step - loss: 0.2642 - accuracy: 0.8883 - val_loss: 0.2633 - val_accuracy: 0.8869\n",
            "Epoch 4/25\n",
            "1236/1236 [==============================] - 4s 3ms/step - loss: 0.2626 - accuracy: 0.8884 - val_loss: 0.2627 - val_accuracy: 0.8869\n",
            "Epoch 5/25\n",
            "1236/1236 [==============================] - 4s 3ms/step - loss: 0.2620 - accuracy: 0.8884 - val_loss: 0.2629 - val_accuracy: 0.8869\n",
            "Epoch 6/25\n",
            "1236/1236 [==============================] - 4s 3ms/step - loss: 0.2613 - accuracy: 0.8882 - val_loss: 0.2623 - val_accuracy: 0.8869\n",
            "Epoch 7/25\n",
            "1236/1236 [==============================] - 3s 3ms/step - loss: 0.2610 - accuracy: 0.8883 - val_loss: 0.2621 - val_accuracy: 0.8869\n",
            "Epoch 8/25\n",
            "1236/1236 [==============================] - 3s 3ms/step - loss: 0.2605 - accuracy: 0.8882 - val_loss: 0.2619 - val_accuracy: 0.8869\n",
            "Epoch 9/25\n",
            "1236/1236 [==============================] - 4s 3ms/step - loss: 0.2604 - accuracy: 0.8882 - val_loss: 0.2622 - val_accuracy: 0.8869\n",
            "Epoch 10/25\n",
            "1236/1236 [==============================] - 3s 3ms/step - loss: 0.2603 - accuracy: 0.8885 - val_loss: 0.2623 - val_accuracy: 0.8869\n",
            "Epoch 11/25\n",
            "1236/1236 [==============================] - 4s 3ms/step - loss: 0.2598 - accuracy: 0.8883 - val_loss: 0.2617 - val_accuracy: 0.8870\n",
            "Epoch 12/25\n",
            "1236/1236 [==============================] - 4s 3ms/step - loss: 0.2598 - accuracy: 0.8883 - val_loss: 0.2617 - val_accuracy: 0.8869\n",
            "Epoch 13/25\n",
            "1236/1236 [==============================] - 3s 3ms/step - loss: 0.2597 - accuracy: 0.8884 - val_loss: 0.2618 - val_accuracy: 0.8869\n",
            "Epoch 14/25\n",
            "1236/1236 [==============================] - 4s 3ms/step - loss: 0.2593 - accuracy: 0.8884 - val_loss: 0.2621 - val_accuracy: 0.8869\n",
            "Epoch 15/25\n",
            "1236/1236 [==============================] - 4s 3ms/step - loss: 0.2593 - accuracy: 0.8884 - val_loss: 0.2620 - val_accuracy: 0.8869\n",
            "Epoch 16/25\n",
            "1236/1236 [==============================] - 4s 3ms/step - loss: 0.2589 - accuracy: 0.8883 - val_loss: 0.2619 - val_accuracy: 0.8870\n",
            "Epoch 17/25\n",
            "1236/1236 [==============================] - 4s 3ms/step - loss: 0.2589 - accuracy: 0.8886 - val_loss: 0.2615 - val_accuracy: 0.8870\n",
            "Epoch 18/25\n",
            "1236/1236 [==============================] - 4s 3ms/step - loss: 0.2587 - accuracy: 0.8885 - val_loss: 0.2624 - val_accuracy: 0.8869\n",
            "Epoch 19/25\n",
            "1236/1236 [==============================] - 4s 3ms/step - loss: 0.2587 - accuracy: 0.8885 - val_loss: 0.2616 - val_accuracy: 0.8869\n",
            "Epoch 20/25\n",
            "1236/1236 [==============================] - 4s 3ms/step - loss: 0.2583 - accuracy: 0.8887 - val_loss: 0.2620 - val_accuracy: 0.8868\n",
            "Epoch 21/25\n",
            "1236/1236 [==============================] - 4s 3ms/step - loss: 0.2584 - accuracy: 0.8887 - val_loss: 0.2617 - val_accuracy: 0.8869\n",
            "Epoch 22/25\n",
            "1236/1236 [==============================] - 4s 3ms/step - loss: 0.2584 - accuracy: 0.8886 - val_loss: 0.2615 - val_accuracy: 0.8870\n",
            "Epoch 23/25\n",
            "1236/1236 [==============================] - 4s 3ms/step - loss: 0.2582 - accuracy: 0.8887 - val_loss: 0.2617 - val_accuracy: 0.8870\n",
            "Epoch 24/25\n",
            "1236/1236 [==============================] - 4s 3ms/step - loss: 0.2578 - accuracy: 0.8887 - val_loss: 0.2614 - val_accuracy: 0.8870\n",
            "Epoch 25/25\n",
            "1236/1236 [==============================] - 4s 3ms/step - loss: 0.2578 - accuracy: 0.8890 - val_loss: 0.2612 - val_accuracy: 0.8872\n"
          ],
          "name": "stdout"
        },
        {
          "output_type": "execute_result",
          "data": {
            "text/plain": [
              "<tensorflow.python.keras.callbacks.History at 0x7f5022c45a10>"
            ]
          },
          "metadata": {
            "tags": []
          },
          "execution_count": 94
        }
      ]
    },
    {
      "cell_type": "markdown",
      "metadata": {
        "id": "MuU9lDxJih5C"
      },
      "source": [
        "**TASK: OPTIONAL: Save your model.**"
      ]
    },
    {
      "cell_type": "code",
      "metadata": {
        "id": "5IyAjNQTih5C"
      },
      "source": [
        "# CODE HERE\n",
        "model.save(\"output.h5\")\n"
      ],
      "execution_count": 95,
      "outputs": []
    },
    {
      "cell_type": "code",
      "metadata": {
        "id": "Mrva9d__ih5C"
      },
      "source": [
        "#from tensorflow.keras.models import load_model"
      ],
      "execution_count": 96,
      "outputs": []
    },
    {
      "cell_type": "code",
      "metadata": {
        "id": "56iVK1wkih5C"
      },
      "source": [
        "#model = load_model(\"output.h5\")"
      ],
      "execution_count": 97,
      "outputs": []
    },
    {
      "cell_type": "code",
      "metadata": {
        "colab": {
          "base_uri": "https://localhost:8080/"
        },
        "id": "28ftSkGiAang",
        "outputId": "d7d886ee-e3ca-4fcb-ba13-ff79c72726af"
      },
      "source": [
        "model"
      ],
      "execution_count": 98,
      "outputs": [
        {
          "output_type": "execute_result",
          "data": {
            "text/plain": [
              "<tensorflow.python.keras.engine.sequential.Sequential at 0x7f5054ad9610>"
            ]
          },
          "metadata": {
            "tags": []
          },
          "execution_count": 98
        }
      ]
    },
    {
      "cell_type": "markdown",
      "metadata": {
        "id": "FpbJG6jUih5C"
      },
      "source": [
        "# Section 3: Evaluating Model Performance.\n",
        "\n",
        "**TASK: Plot out the validation loss versus the training loss.**"
      ]
    },
    {
      "cell_type": "code",
      "metadata": {
        "id": "fAsiJb-1ih5C"
      },
      "source": [
        "# CODE HERE\n",
        "losses_df = pd.DataFrame(model.history.history)"
      ],
      "execution_count": 99,
      "outputs": []
    },
    {
      "cell_type": "code",
      "metadata": {
        "id": "4ymXmsEDih5C",
        "colab": {
          "base_uri": "https://localhost:8080/",
          "height": 282
        },
        "outputId": "c3dc84c4-aaac-47a0-a89a-cd7741db9d7e"
      },
      "source": [
        "losses_df.plot()"
      ],
      "execution_count": 100,
      "outputs": [
        {
          "output_type": "execute_result",
          "data": {
            "text/plain": [
              "<matplotlib.axes._subplots.AxesSubplot at 0x7f501a7c3110>"
            ]
          },
          "metadata": {
            "tags": []
          },
          "execution_count": 100
        },
        {
          "output_type": "display_data",
          "data": {
            "image/png": "[encoded data removed]",
            "text/plain": [
              "<Figure size 432x288 with 1 Axes>"
            ]
          },
          "metadata": {
            "tags": [],
            "needs_background": "light"
          }
        }
      ]
    },
    {
      "cell_type": "markdown",
      "metadata": {
        "id": "H4uC-sDQih5D"
      },
      "source": [
        "**TASK: Create predictions from the X_test set and display a classification report and confusion matrix for the X_test set.**"
      ]
    },
    {
      "cell_type": "code",
      "metadata": {
        "id": "DPSCpXG5ih5D"
      },
      "source": [
        "# CODE HERE\n",
        "predictions = (model.predict(X_test) > 0.5).astype(\"int32\")"
      ],
      "execution_count": 158,
      "outputs": []
    },
    {
      "cell_type": "code",
      "metadata": {
        "id": "YENJvzJQih5D"
      },
      "source": [
        "from sklearn.metrics import classification_report, confusion_matrix"
      ],
      "execution_count": 159,
      "outputs": []
    },
    {
      "cell_type": "code",
      "metadata": {
        "id": "hcoUuscgih5D",
        "colab": {
          "base_uri": "https://localhost:8080/"
        },
        "outputId": "a2d40d0a-be94-4383-884c-dc1e6f8f57df"
      },
      "source": [
        "print(classification_report(y_test, predictions))"
      ],
      "execution_count": 160,
      "outputs": [
        {
          "output_type": "stream",
          "text": [
            "              precision    recall  f1-score   support\n",
            "\n",
            "           0       0.99      0.43      0.60     15658\n",
            "           1       0.88      1.00      0.93     63386\n",
            "\n",
            "    accuracy                           0.89     79044\n",
            "   macro avg       0.94      0.72      0.77     79044\n",
            "weighted avg       0.90      0.89      0.87     79044\n",
            "\n"
          ],
          "name": "stdout"
        }
      ]
    },
    {
      "cell_type": "code",
      "metadata": {
        "id": "PW1x2nZ3ih5E",
        "colab": {
          "base_uri": "https://localhost:8080/"
        },
        "outputId": "5c4b63be-b35d-403c-c321-016ee01af248"
      },
      "source": [
        "confusion_matrix(y_test, predictions)"
      ],
      "execution_count": 104,
      "outputs": [
        {
          "output_type": "execute_result",
          "data": {
            "text/plain": [
              "array([[ 6784,  8874],\n",
              "       [   45, 63341]])"
            ]
          },
          "metadata": {
            "tags": []
          },
          "execution_count": 104
        }
      ]
    },
    {
      "cell_type": "markdown",
      "metadata": {
        "id": "NX_tqyoWih5E"
      },
      "source": [
        "**TASK: Given the customer below, would you offer this person a loan?**"
      ]
    },
    {
      "cell_type": "code",
      "metadata": {
        "id": "uAaT6-epih5E",
        "colab": {
          "base_uri": "https://localhost:8080/"
        },
        "outputId": "55318db0-ef5b-4b12-ef7d-a5afefc6c22b"
      },
      "source": [
        "import random\n",
        "random.seed(102)\n",
        "random_ind = random.randint(0,len(df))\n",
        "\n",
        "new_customer = df.drop('loan_repaid',axis=1).iloc[random_ind]\n",
        "new_customer"
      ],
      "execution_count": 163,
      "outputs": [
        {
          "output_type": "execute_result",
          "data": {
            "text/plain": [
              "loan_amnt            35000.00\n",
              "term                    36.00\n",
              "int_rate                19.99\n",
              "installment           1300.55\n",
              "annual_inc          110000.00\n",
              "                      ...    \n",
              "48052                    0.00\n",
              "70466                    0.00\n",
              "86630                    0.00\n",
              "93700                    0.00\n",
              "earliest_cr_year      2002.00\n",
              "Name: 87855, Length: 78, dtype: float64"
            ]
          },
          "metadata": {
            "tags": []
          },
          "execution_count": 163
        }
      ]
    },
    {
      "cell_type": "code",
      "metadata": {
        "id": "fNQR6v7Kih5F",
        "colab": {
          "base_uri": "https://localhost:8080/"
        },
        "outputId": "3540367b-142d-4985-abe8-3baf5e684dac"
      },
      "source": [
        "# CODE HERE\n",
        "new_customer = scaler.transform(new_customer.values.reshape(-1, 78))\n",
        "(model.predict(new_customer) > 0.5).astype(\"int32\")"
      ],
      "execution_count": 164,
      "outputs": [
        {
          "output_type": "execute_result",
          "data": {
            "text/plain": [
              "array([[1]], dtype=int32)"
            ]
          },
          "metadata": {
            "tags": []
          },
          "execution_count": 164
        }
      ]
    },
    {
      "cell_type": "markdown",
      "metadata": {
        "id": "pe4WPMVqih5G"
      },
      "source": [
        "**TASK: Now check, did this person actually end up paying back their loan?**"
      ]
    },
    {
      "cell_type": "code",
      "metadata": {
        "id": "ZZQc7JpAih5G",
        "colab": {
          "base_uri": "https://localhost:8080/"
        },
        "outputId": "3c29bfa7-f9e5-4f74-e5bb-c275610250eb"
      },
      "source": [
        "# CODE HERE\n",
        "random.seed(102)\n",
        "random_ind = random.randint(0,len(df))\n",
        "orig_customer = df.iloc[random_ind]\n",
        "orig_customer[\"loan_repaid\"]\n",
        "\n"
      ],
      "execution_count": 165,
      "outputs": [
        {
          "output_type": "execute_result",
          "data": {
            "text/plain": [
              "1.0"
            ]
          },
          "metadata": {
            "tags": []
          },
          "execution_count": 165
        }
      ]
    },
    {
      "cell_type": "markdown",
      "metadata": {
        "id": "cpvs8cypih5G"
      },
      "source": [
        "# GREAT JOB!"
      ]
    }
  ]
}